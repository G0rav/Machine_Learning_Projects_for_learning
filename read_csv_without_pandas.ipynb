{
 "cells": [
  {
   "cell_type": "code",
   "execution_count": null,
   "metadata": {},
   "outputs": [],
   "source": [
    "import csv\n",
    "\n",
    "data = []\n",
    "\n",
    "def transform_row(row):\n",
    "    title = line[0]\n",
    "    release_date = int(line[1])\n",
    "    director = line[2]\n",
    "\n",
    "    return [\n",
    "\n",
    "        # column 1\n",
    "        title,\n",
    "\n",
    "        # column 2: subtract 1000 from the year\n",
    "        release_date - 1000,\n",
    "\n",
    "        # column 4: empty column\n",
    "        None,\n",
    "\n",
    "        # column 3\n",
    "        director\n",
    "    ]\n",
    "\n",
    "# read csv file line by line\n",
    "with open('input.csv', 'rb') as f:\n",
    "    reader = csv.reader(f)\n",
    "\n",
    "    # pop header row (1st row in csv)\n",
    "    header = reader.next()\n",
    "\n",
    "    # loop through each line in csv and transform\n",
    "    for line in reader:\n",
    "\n",
    "        # if the line is blank, skip this and keep going\n",
    "        if not line: continue\n",
    "\n",
    "        data.append(transform_row(line))\n",
    "\n",
    "# write a new csv file\n",
    "with open('output.csv', 'w') as f:\n",
    "    # define new csv writer\n",
    "    writer = csv.writer(f, delimiter=',')\n",
    "\n",
    "    # write a header row to our output.csv file\n",
    "    writer.writerow([\n",
    "        'Title',\n",
    "        'Date minus 1000',\n",
    "        None,\n",
    "        'Director'\n",
    "    ])\n",
    "\n",
    "    # write our data to the file\n",
    "    writer.writerows(data)"
   ]
  }
 ],
 "metadata": {
  "kernelspec": {
   "display_name": "Python 3",
   "language": "python",
   "name": "python3"
  },
  "language_info": {
   "codemirror_mode": {
    "name": "ipython",
    "version": 3
   },
   "file_extension": ".py",
   "mimetype": "text/x-python",
   "name": "python",
   "nbconvert_exporter": "python",
   "pygments_lexer": "ipython3",
   "version": "3.7.4"
  }
 },
 "nbformat": 4,
 "nbformat_minor": 2
}
