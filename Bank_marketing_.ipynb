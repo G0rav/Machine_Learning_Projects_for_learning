{
  "nbformat": 4,
  "nbformat_minor": 0,
  "metadata": {
    "colab": {
      "name": "Bank_marketing .ipynb",
      "provenance": [],
      "collapsed_sections": [],
      "mount_file_id": "1wu36agHufUUfkynovBaYdUed09J7NycG",
      "authorship_tag": "ABX9TyPTVB/CiwNJHsuyPMAp2Rst"
    },
    "kernelspec": {
      "name": "python3",
      "display_name": "Python 3"
    }
  },
  "cells": [
    {
      "cell_type": "markdown",
      "metadata": {
        "id": "Y9eJv789s5EL",
        "colab_type": "text"
      },
      "source": [
        "The data is related with direct marketing campaigns of a Portuguese banking institution. \n",
        "   The marketing campaigns were based on phone calls. Often, more than one contact to the same client was required, \n",
        "   in order to access if the product (bank term deposit) would be (or not) subscribed. \n",
        "\n",
        "> Number of Instances: 45211\n",
        "\n",
        "> Number of Attributes: 16 + output attribute.\n",
        "\n",
        "\n",
        "The classification goal is to predict if the client will subscribe a term deposit (variable y).\n"
      ]
    },
    {
      "cell_type": "markdown",
      "metadata": {
        "id": "ItA5fU1zuoRj",
        "colab_type": "text"
      },
      "source": [
        "# Attribute information:\n",
        "   Input variables:\n",
        "  \n",
        "   ## bank client data:\n",
        "   \n",
        "   1 - age (numeric)\n",
        "  \n",
        "   2 - job : type of job (categorical: \"admin.\",\"unknown\",\"unemployed\",\"management\",\"housemaid\",\"entrepreneur\",\"student\",\n",
        "                                       \"blue-collar\",\"self-employed\",\"retired\",\"technician\",\"services\") \n",
        "   \n",
        "   3 - marital : marital status (categorical: \"married\",\"divorced\",\"single\"; note: \"divorced\" means divorced or widowed)\n",
        "  \n",
        "   4 - education (categorical: \"unknown\",\"secondary\",\"primary\",\"tertiary\")\n",
        "   \n",
        "   5 - default: has credit in default? (binary: \"yes\",\"no\")\n",
        "  \n",
        "   6 - balance: average yearly balance, in euros (numeric) \n",
        "  \n",
        "   7 - housing: has housing loan? (binary: \"yes\",\"no\")\n",
        "  \n",
        "   8 - loan: has personal loan? (binary: \"yes\",\"no\")\n",
        "  \n",
        "   ## related with the last contact of the current campaign:\n",
        "   \n",
        "   9 - contact: contact communication type (categorical: \"unknown\",\"telephone\",\"cellular\") \n",
        "  \n",
        "  10 - day: last contact day of the month (numeric)\n",
        "  \n",
        "  11 - month: last contact month of year (categorical: \"jan\", \"feb\", \"mar\", ..., \"nov\", \"dec\")\n",
        "  \n",
        "  12 - duration: last contact duration, in seconds (numeric)\n",
        "  \n",
        "   ## other attributes:\n",
        "  \n",
        "  13 - campaign: number of contacts performed during this campaign and for this client (numeric, includes last contact)\n",
        "  \n",
        "  14 - pdays: number of days that passed by after the client was last contacted from a previous campaign (numeric, -1 means client was not previously contacted)\n",
        "  \n",
        "  15 - previous: number of contacts performed before this campaign and for this client (numeric)\n",
        "\n",
        "  16 - poutcome: outcome of the previous marketing campaign (categorical: \"unknown\",\"other\",\"failure\",\"success\")\n",
        "\n",
        "# Output variable (desired target):\n",
        "\n",
        "  17 - y - has the client subscribed a term deposit? (binary: \"yes\",\"no\")"
      ]
    },
    {
      "cell_type": "markdown",
      "metadata": {
        "id": "i-P9PCdXun3F",
        "colab_type": "text"
      },
      "source": [
        ""
      ]
    },
    {
      "cell_type": "code",
      "metadata": {
        "id": "b6N0UTV_oUaS",
        "colab_type": "code",
        "colab": {}
      },
      "source": [
        "import pandas as pd\n",
        "import numpy as np\n",
        "import matplotlib.pyplot as plt\n",
        "%matplotlib inline\n",
        "import seaborn as sns"
      ],
      "execution_count": 0,
      "outputs": []
    },
    {
      "cell_type": "code",
      "metadata": {
        "id": "LoABQcECqE3m",
        "colab_type": "code",
        "colab": {}
      },
      "source": [
        "path = '/content/drive/My Drive/Datasets/Bank Marketing Data Set/bank-full.csv'\n",
        "df  = pd.read_csv(path,sep=';')"
      ],
      "execution_count": 0,
      "outputs": []
    },
    {
      "cell_type": "code",
      "metadata": {
        "id": "D6CWhbOoqGLf",
        "colab_type": "code",
        "outputId": "37e1a96d-d12c-4234-a996-de7c0e8ed7d1",
        "colab": {
          "base_uri": "https://localhost:8080/",
          "height": 204
        }
      },
      "source": [
        "df.head()"
      ],
      "execution_count": 20,
      "outputs": [
        {
          "output_type": "execute_result",
          "data": {
            "text/html": [
              "<div>\n",
              "<style scoped>\n",
              "    .dataframe tbody tr th:only-of-type {\n",
              "        vertical-align: middle;\n",
              "    }\n",
              "\n",
              "    .dataframe tbody tr th {\n",
              "        vertical-align: top;\n",
              "    }\n",
              "\n",
              "    .dataframe thead th {\n",
              "        text-align: right;\n",
              "    }\n",
              "</style>\n",
              "<table border=\"1\" class=\"dataframe\">\n",
              "  <thead>\n",
              "    <tr style=\"text-align: right;\">\n",
              "      <th></th>\n",
              "      <th>age</th>\n",
              "      <th>job</th>\n",
              "      <th>marital</th>\n",
              "      <th>education</th>\n",
              "      <th>default</th>\n",
              "      <th>balance</th>\n",
              "      <th>housing</th>\n",
              "      <th>loan</th>\n",
              "      <th>contact</th>\n",
              "      <th>day</th>\n",
              "      <th>month</th>\n",
              "      <th>duration</th>\n",
              "      <th>campaign</th>\n",
              "      <th>pdays</th>\n",
              "      <th>previous</th>\n",
              "      <th>poutcome</th>\n",
              "      <th>y</th>\n",
              "    </tr>\n",
              "  </thead>\n",
              "  <tbody>\n",
              "    <tr>\n",
              "      <th>0</th>\n",
              "      <td>58</td>\n",
              "      <td>management</td>\n",
              "      <td>married</td>\n",
              "      <td>tertiary</td>\n",
              "      <td>no</td>\n",
              "      <td>2143</td>\n",
              "      <td>yes</td>\n",
              "      <td>no</td>\n",
              "      <td>unknown</td>\n",
              "      <td>5</td>\n",
              "      <td>may</td>\n",
              "      <td>261</td>\n",
              "      <td>1</td>\n",
              "      <td>-1</td>\n",
              "      <td>0</td>\n",
              "      <td>unknown</td>\n",
              "      <td>no</td>\n",
              "    </tr>\n",
              "    <tr>\n",
              "      <th>1</th>\n",
              "      <td>44</td>\n",
              "      <td>technician</td>\n",
              "      <td>single</td>\n",
              "      <td>secondary</td>\n",
              "      <td>no</td>\n",
              "      <td>29</td>\n",
              "      <td>yes</td>\n",
              "      <td>no</td>\n",
              "      <td>unknown</td>\n",
              "      <td>5</td>\n",
              "      <td>may</td>\n",
              "      <td>151</td>\n",
              "      <td>1</td>\n",
              "      <td>-1</td>\n",
              "      <td>0</td>\n",
              "      <td>unknown</td>\n",
              "      <td>no</td>\n",
              "    </tr>\n",
              "    <tr>\n",
              "      <th>2</th>\n",
              "      <td>33</td>\n",
              "      <td>entrepreneur</td>\n",
              "      <td>married</td>\n",
              "      <td>secondary</td>\n",
              "      <td>no</td>\n",
              "      <td>2</td>\n",
              "      <td>yes</td>\n",
              "      <td>yes</td>\n",
              "      <td>unknown</td>\n",
              "      <td>5</td>\n",
              "      <td>may</td>\n",
              "      <td>76</td>\n",
              "      <td>1</td>\n",
              "      <td>-1</td>\n",
              "      <td>0</td>\n",
              "      <td>unknown</td>\n",
              "      <td>no</td>\n",
              "    </tr>\n",
              "    <tr>\n",
              "      <th>3</th>\n",
              "      <td>47</td>\n",
              "      <td>blue-collar</td>\n",
              "      <td>married</td>\n",
              "      <td>unknown</td>\n",
              "      <td>no</td>\n",
              "      <td>1506</td>\n",
              "      <td>yes</td>\n",
              "      <td>no</td>\n",
              "      <td>unknown</td>\n",
              "      <td>5</td>\n",
              "      <td>may</td>\n",
              "      <td>92</td>\n",
              "      <td>1</td>\n",
              "      <td>-1</td>\n",
              "      <td>0</td>\n",
              "      <td>unknown</td>\n",
              "      <td>no</td>\n",
              "    </tr>\n",
              "    <tr>\n",
              "      <th>4</th>\n",
              "      <td>33</td>\n",
              "      <td>unknown</td>\n",
              "      <td>single</td>\n",
              "      <td>unknown</td>\n",
              "      <td>no</td>\n",
              "      <td>1</td>\n",
              "      <td>no</td>\n",
              "      <td>no</td>\n",
              "      <td>unknown</td>\n",
              "      <td>5</td>\n",
              "      <td>may</td>\n",
              "      <td>198</td>\n",
              "      <td>1</td>\n",
              "      <td>-1</td>\n",
              "      <td>0</td>\n",
              "      <td>unknown</td>\n",
              "      <td>no</td>\n",
              "    </tr>\n",
              "  </tbody>\n",
              "</table>\n",
              "</div>"
            ],
            "text/plain": [
              "   age           job  marital  education  ... pdays  previous poutcome   y\n",
              "0   58    management  married   tertiary  ...    -1         0  unknown  no\n",
              "1   44    technician   single  secondary  ...    -1         0  unknown  no\n",
              "2   33  entrepreneur  married  secondary  ...    -1         0  unknown  no\n",
              "3   47   blue-collar  married    unknown  ...    -1         0  unknown  no\n",
              "4   33       unknown   single    unknown  ...    -1         0  unknown  no\n",
              "\n",
              "[5 rows x 17 columns]"
            ]
          },
          "metadata": {
            "tags": []
          },
          "execution_count": 20
        }
      ]
    },
    {
      "cell_type": "code",
      "metadata": {
        "id": "6OKUS2nSqGI3",
        "colab_type": "code",
        "outputId": "6c599b93-7991-46ee-ba86-4a5751d0f687",
        "colab": {
          "base_uri": "https://localhost:8080/",
          "height": 425
        }
      },
      "source": [
        "df.info()"
      ],
      "execution_count": 21,
      "outputs": [
        {
          "output_type": "stream",
          "text": [
            "<class 'pandas.core.frame.DataFrame'>\n",
            "RangeIndex: 45211 entries, 0 to 45210\n",
            "Data columns (total 17 columns):\n",
            " #   Column     Non-Null Count  Dtype \n",
            "---  ------     --------------  ----- \n",
            " 0   age        45211 non-null  int64 \n",
            " 1   job        45211 non-null  object\n",
            " 2   marital    45211 non-null  object\n",
            " 3   education  45211 non-null  object\n",
            " 4   default    45211 non-null  object\n",
            " 5   balance    45211 non-null  int64 \n",
            " 6   housing    45211 non-null  object\n",
            " 7   loan       45211 non-null  object\n",
            " 8   contact    45211 non-null  object\n",
            " 9   day        45211 non-null  int64 \n",
            " 10  month      45211 non-null  object\n",
            " 11  duration   45211 non-null  int64 \n",
            " 12  campaign   45211 non-null  int64 \n",
            " 13  pdays      45211 non-null  int64 \n",
            " 14  previous   45211 non-null  int64 \n",
            " 15  poutcome   45211 non-null  object\n",
            " 16  y          45211 non-null  object\n",
            "dtypes: int64(7), object(10)\n",
            "memory usage: 5.9+ MB\n"
          ],
          "name": "stdout"
        }
      ]
    },
    {
      "cell_type": "code",
      "metadata": {
        "id": "T3Q_IOCpqGGm",
        "colab_type": "code",
        "outputId": "a0ec3575-ae23-4783-fe50-33b9284a56f3",
        "colab": {
          "base_uri": "https://localhost:8080/",
          "height": 204
        }
      },
      "source": [
        "#Dropping useless columns\n",
        "df.drop(['contact','day','month'],axis=1,inplace = True)\n",
        "display(df.head())"
      ],
      "execution_count": 22,
      "outputs": [
        {
          "output_type": "display_data",
          "data": {
            "text/html": [
              "<div>\n",
              "<style scoped>\n",
              "    .dataframe tbody tr th:only-of-type {\n",
              "        vertical-align: middle;\n",
              "    }\n",
              "\n",
              "    .dataframe tbody tr th {\n",
              "        vertical-align: top;\n",
              "    }\n",
              "\n",
              "    .dataframe thead th {\n",
              "        text-align: right;\n",
              "    }\n",
              "</style>\n",
              "<table border=\"1\" class=\"dataframe\">\n",
              "  <thead>\n",
              "    <tr style=\"text-align: right;\">\n",
              "      <th></th>\n",
              "      <th>age</th>\n",
              "      <th>job</th>\n",
              "      <th>marital</th>\n",
              "      <th>education</th>\n",
              "      <th>default</th>\n",
              "      <th>balance</th>\n",
              "      <th>housing</th>\n",
              "      <th>loan</th>\n",
              "      <th>duration</th>\n",
              "      <th>campaign</th>\n",
              "      <th>pdays</th>\n",
              "      <th>previous</th>\n",
              "      <th>poutcome</th>\n",
              "      <th>y</th>\n",
              "    </tr>\n",
              "  </thead>\n",
              "  <tbody>\n",
              "    <tr>\n",
              "      <th>0</th>\n",
              "      <td>58</td>\n",
              "      <td>management</td>\n",
              "      <td>married</td>\n",
              "      <td>tertiary</td>\n",
              "      <td>no</td>\n",
              "      <td>2143</td>\n",
              "      <td>yes</td>\n",
              "      <td>no</td>\n",
              "      <td>261</td>\n",
              "      <td>1</td>\n",
              "      <td>-1</td>\n",
              "      <td>0</td>\n",
              "      <td>unknown</td>\n",
              "      <td>no</td>\n",
              "    </tr>\n",
              "    <tr>\n",
              "      <th>1</th>\n",
              "      <td>44</td>\n",
              "      <td>technician</td>\n",
              "      <td>single</td>\n",
              "      <td>secondary</td>\n",
              "      <td>no</td>\n",
              "      <td>29</td>\n",
              "      <td>yes</td>\n",
              "      <td>no</td>\n",
              "      <td>151</td>\n",
              "      <td>1</td>\n",
              "      <td>-1</td>\n",
              "      <td>0</td>\n",
              "      <td>unknown</td>\n",
              "      <td>no</td>\n",
              "    </tr>\n",
              "    <tr>\n",
              "      <th>2</th>\n",
              "      <td>33</td>\n",
              "      <td>entrepreneur</td>\n",
              "      <td>married</td>\n",
              "      <td>secondary</td>\n",
              "      <td>no</td>\n",
              "      <td>2</td>\n",
              "      <td>yes</td>\n",
              "      <td>yes</td>\n",
              "      <td>76</td>\n",
              "      <td>1</td>\n",
              "      <td>-1</td>\n",
              "      <td>0</td>\n",
              "      <td>unknown</td>\n",
              "      <td>no</td>\n",
              "    </tr>\n",
              "    <tr>\n",
              "      <th>3</th>\n",
              "      <td>47</td>\n",
              "      <td>blue-collar</td>\n",
              "      <td>married</td>\n",
              "      <td>unknown</td>\n",
              "      <td>no</td>\n",
              "      <td>1506</td>\n",
              "      <td>yes</td>\n",
              "      <td>no</td>\n",
              "      <td>92</td>\n",
              "      <td>1</td>\n",
              "      <td>-1</td>\n",
              "      <td>0</td>\n",
              "      <td>unknown</td>\n",
              "      <td>no</td>\n",
              "    </tr>\n",
              "    <tr>\n",
              "      <th>4</th>\n",
              "      <td>33</td>\n",
              "      <td>unknown</td>\n",
              "      <td>single</td>\n",
              "      <td>unknown</td>\n",
              "      <td>no</td>\n",
              "      <td>1</td>\n",
              "      <td>no</td>\n",
              "      <td>no</td>\n",
              "      <td>198</td>\n",
              "      <td>1</td>\n",
              "      <td>-1</td>\n",
              "      <td>0</td>\n",
              "      <td>unknown</td>\n",
              "      <td>no</td>\n",
              "    </tr>\n",
              "  </tbody>\n",
              "</table>\n",
              "</div>"
            ],
            "text/plain": [
              "   age           job  marital  education  ... pdays  previous poutcome   y\n",
              "0   58    management  married   tertiary  ...    -1         0  unknown  no\n",
              "1   44    technician   single  secondary  ...    -1         0  unknown  no\n",
              "2   33  entrepreneur  married  secondary  ...    -1         0  unknown  no\n",
              "3   47   blue-collar  married    unknown  ...    -1         0  unknown  no\n",
              "4   33       unknown   single    unknown  ...    -1         0  unknown  no\n",
              "\n",
              "[5 rows x 14 columns]"
            ]
          },
          "metadata": {
            "tags": []
          }
        }
      ]
    },
    {
      "cell_type": "code",
      "metadata": {
        "id": "7CPwJ10IqGDb",
        "colab_type": "code",
        "outputId": "7d6fb083-99ab-4f99-851b-232428445380",
        "colab": {
          "base_uri": "https://localhost:8080/",
          "height": 68
        }
      },
      "source": [
        "df.y.value_counts()"
      ],
      "execution_count": 23,
      "outputs": [
        {
          "output_type": "execute_result",
          "data": {
            "text/plain": [
              "no     39922\n",
              "yes     5289\n",
              "Name: y, dtype: int64"
            ]
          },
          "metadata": {
            "tags": []
          },
          "execution_count": 23
        }
      ]
    },
    {
      "cell_type": "code",
      "metadata": {
        "id": "a1o9gP9QqF5f",
        "colab_type": "code",
        "colab": {}
      },
      "source": [
        "dfgrouped = df.groupby('y')"
      ],
      "execution_count": 0,
      "outputs": []
    },
    {
      "cell_type": "code",
      "metadata": {
        "id": "rlAVTtwWqF2f",
        "colab_type": "code",
        "outputId": "b2312e6f-3ca0-4abf-a0d2-b13f7fae23d2",
        "colab": {
          "base_uri": "https://localhost:8080/",
          "height": 561
        }
      },
      "source": [
        "for type,data in dfgrouped:\n",
        "  print(type)\n",
        "  print('--------------')\n",
        "  print(data)"
      ],
      "execution_count": 25,
      "outputs": [
        {
          "output_type": "stream",
          "text": [
            "no\n",
            "--------------\n",
            "       age           job  marital  education  ... pdays  previous poutcome   y\n",
            "0       58    management  married   tertiary  ...    -1         0  unknown  no\n",
            "1       44    technician   single  secondary  ...    -1         0  unknown  no\n",
            "2       33  entrepreneur  married  secondary  ...    -1         0  unknown  no\n",
            "3       47   blue-collar  married    unknown  ...    -1         0  unknown  no\n",
            "4       33       unknown   single    unknown  ...    -1         0  unknown  no\n",
            "...    ...           ...      ...        ...  ...   ...       ...      ...  ..\n",
            "45194   59    management  married   tertiary  ...   187         5  failure  no\n",
            "45198   37    management  married   tertiary  ...    -1         0  unknown  no\n",
            "45199   34   blue-collar   single  secondary  ...   530        12    other  no\n",
            "45209   57   blue-collar  married  secondary  ...    -1         0  unknown  no\n",
            "45210   37  entrepreneur  married  secondary  ...   188        11    other  no\n",
            "\n",
            "[39922 rows x 14 columns]\n",
            "yes\n",
            "--------------\n",
            "       age         job   marital  education  ... pdays  previous poutcome    y\n",
            "83      59      admin.   married  secondary  ...    -1         0  unknown  yes\n",
            "86      56      admin.   married  secondary  ...    -1         0  unknown  yes\n",
            "87      41  technician   married  secondary  ...    -1         0  unknown  yes\n",
            "129     55    services   married  secondary  ...    -1         0  unknown  yes\n",
            "168     54      admin.   married   tertiary  ...    -1         0  unknown  yes\n",
            "...    ...         ...       ...        ...  ...   ...       ...      ...  ...\n",
            "45204   73     retired   married  secondary  ...    40         8  failure  yes\n",
            "45205   25  technician    single  secondary  ...    -1         0  unknown  yes\n",
            "45206   51  technician   married   tertiary  ...    -1         0  unknown  yes\n",
            "45207   71     retired  divorced    primary  ...    -1         0  unknown  yes\n",
            "45208   72     retired   married  secondary  ...   184         3  success  yes\n",
            "\n",
            "[5289 rows x 14 columns]\n"
          ],
          "name": "stdout"
        }
      ]
    },
    {
      "cell_type": "code",
      "metadata": {
        "id": "HVlsRuCEa7Bj",
        "colab_type": "code",
        "colab": {}
      },
      "source": [
        "def plot_barh(array,incrementer, bias, text_color ='blue', palette_style = 'darkgrid',palette_color = 'RdBu'):\n",
        "\n",
        "  sns.set_style(palette_style)\n",
        "  sns.set_palette(palette_color)\n",
        "\n",
        "  plt.barh(array.index, width = array.values, height = .5)\n",
        "  plt.yticks(np.arange(len(array)))\n",
        "  plt.xticks( range(0, round(max(array)) +bias, incrementer ))\n",
        "\n",
        "  for index, value in enumerate(array.values):\n",
        "    plt.text(value +.5, index, s= '{:.1f}%'.format(value), color = text_color)\n",
        "\n",
        "  plt.show()"
      ],
      "execution_count": 0,
      "outputs": []
    },
    {
      "cell_type": "code",
      "metadata": {
        "id": "b7oPTzVR2ZDC",
        "colab_type": "code",
        "colab": {}
      },
      "source": [
        "def feature_perc(feature,groupby= 'yes'):\n",
        "\n",
        "  count = dfgrouped.get_group(groupby)[feature].value_counts()\n",
        "  total_count = df[feature].value_counts()[count.index]\n",
        "\n",
        "  perc = (count/total_count)*100\n",
        "  return perc "
      ],
      "execution_count": 0,
      "outputs": []
    },
    {
      "cell_type": "code",
      "metadata": {
        "id": "UDvh1xXldiQk",
        "colab_type": "code",
        "outputId": "4b240024-59d3-4bf1-eeda-62d96e1b6dae",
        "colab": {
          "base_uri": "https://localhost:8080/",
          "height": 390
        }
      },
      "source": [
        "yes_job_perc = feature_perc('job')\n",
        "\n",
        "plt.figure(figsize=(8,6))\n",
        "plt.title('Success rate by  job')\n",
        "plot_barh(yes_job_perc.sort_values(),5,10, text_color = 'blue')"
      ],
      "execution_count": 12,
      "outputs": [
        {
          "output_type": "display_data",
          "data": {
            "image/png": "[encoded data removed]",
            "text/plain": [
              "<Figure size 576x432 with 1 Axes>"
            ]
          },
          "metadata": {
            "tags": [],
            "needs_background": "light"
          }
        }
      ]
    },
    {
      "cell_type": "code",
      "metadata": {
        "id": "GtfUeshdBsZA",
        "colab_type": "code",
        "outputId": "d334cc0f-d84e-484e-da01-4da8215ae9de",
        "colab": {
          "base_uri": "https://localhost:8080/",
          "height": 281
        }
      },
      "source": [
        "yes_marital_perc = feature_perc('marital')\n",
        "\n",
        "plt.title('Success rate by  marital status')\n",
        "plot_barh(yes_marital_perc.sort_values(),2,4, text_color = 'red',palette_color='dark')"
      ],
      "execution_count": 13,
      "outputs": [
        {
          "output_type": "display_data",
          "data": {
            "image/png": "[encoded data removed]",
            "text/plain": [
              "<Figure size 432x288 with 1 Axes>"
            ]
          },
          "metadata": {
            "tags": []
          }
        }
      ]
    },
    {
      "cell_type": "code",
      "metadata": {
        "id": "5L2Brjx1BsWU",
        "colab_type": "code",
        "outputId": "57b3ab7b-f9e6-48fc-b84d-4e028a57ec05",
        "colab": {
          "base_uri": "https://localhost:8080/",
          "height": 281
        }
      },
      "source": [
        "yes_marital_perc = feature_perc('education')\n",
        "\n",
        "plt.title('Success rate by  education status')\n",
        "plot_barh(yes_marital_perc.sort_values(),2,4, text_color = 'green',palette_color='Oranges')"
      ],
      "execution_count": 14,
      "outputs": [
        {
          "output_type": "display_data",
          "data": {
            "image/png": "[encoded data removed]",
            "text/plain": [
              "<Figure size 432x288 with 1 Axes>"
            ]
          },
          "metadata": {
            "tags": []
          }
        }
      ]
    },
    {
      "cell_type": "code",
      "metadata": {
        "id": "_Hh1mg6mqbMv",
        "colab_type": "code",
        "colab": {}
      },
      "source": [
        ""
      ],
      "execution_count": 0,
      "outputs": []
    },
    {
      "cell_type": "code",
      "metadata": {
        "id": "J1QZxzqeu_0a",
        "colab_type": "code",
        "colab": {}
      },
      "source": [
        ""
      ],
      "execution_count": 0,
      "outputs": []
    },
    {
      "cell_type": "code",
      "metadata": {
        "id": "XvkIGtRfu_x4",
        "colab_type": "code",
        "outputId": "9325dd9a-0ebe-4d63-eebb-279f3d9d3ab3",
        "colab": {
          "base_uri": "https://localhost:8080/",
          "height": 281
        }
      },
      "source": [
        "yes_potcome_perc = feature_perc('poutcome')\n",
        "\n",
        "plt.title('Success rate by  previous outcome')\n",
        "plot_barh(yes_potcome_perc.sort_values(),5,10, text_color = 'black',palette_color='dark')"
      ],
      "execution_count": 15,
      "outputs": [
        {
          "output_type": "display_data",
          "data": {
            "image/png": "[encoded data removed]",
            "text/plain": [
              "<Figure size 432x288 with 1 Axes>"
            ]
          },
          "metadata": {
            "tags": []
          }
        }
      ]
    },
    {
      "cell_type": "code",
      "metadata": {
        "id": "X8CG5DHRu_vS",
        "colab_type": "code",
        "colab": {}
      },
      "source": [
        ""
      ],
      "execution_count": 0,
      "outputs": []
    },
    {
      "cell_type": "code",
      "metadata": {
        "id": "3PWkHpjXw5yK",
        "colab_type": "code",
        "outputId": "34526b37-12cc-47c0-aad3-c48f49ec6d84",
        "colab": {
          "base_uri": "https://localhost:8080/",
          "height": 809
        }
      },
      "source": [
        "yes_housing_perc = feature_perc('housing')\n",
        "yes_default_perc = feature_perc('default')\n",
        "yes_loan_perc = feature_perc('loan')\n",
        "\n",
        "fig, (ax1,ax2,ax3) = plt.subplots(1,3, figsize=(16,4))\n",
        "\n",
        "ax1 = plt.title('Have Housing loan success percentage')\n",
        "ax1 = plot_barh( yes_housing_perc.sort_values(), 2, 5)\n",
        "\n",
        "ax2 = plt.title('Default success percentage')\n",
        "ax2 = plot_barh( yes_default_perc.sort_values(), 2, 5)\n",
        "\n",
        "ax3 = plt.title('Have any other loan success percentage')\n",
        "ax3 = plot_barh( yes_loan_perc.sort_values(), 2, 5)"
      ],
      "execution_count": 40,
      "outputs": [
        {
          "output_type": "display_data",
          "data": {
            "image/png": "[encoded data removed]",
            "text/plain": [
              "<Figure size 1152x288 with 3 Axes>"
            ]
          },
          "metadata": {
            "tags": []
          }
        },
        {
          "output_type": "display_data",
          "data": {
            "image/png": "[encoded data removed]",
            "text/plain": [
              "<Figure size 432x288 with 1 Axes>"
            ]
          },
          "metadata": {
            "tags": []
          }
        },
        {
          "output_type": "display_data",
          "data": {
            "image/png": "[encoded data removed]",
            "text/plain": [
              "<Figure size 432x288 with 1 Axes>"
            ]
          },
          "metadata": {
            "tags": []
          }
        }
      ]
    },
    {
      "cell_type": "code",
      "metadata": {
        "id": "5Vnu63xmw5vg",
        "colab_type": "code",
        "colab": {}
      },
      "source": [
        ""
      ],
      "execution_count": 0,
      "outputs": []
    },
    {
      "cell_type": "code",
      "metadata": {
        "id": "K7KAyIoMw5p2",
        "colab_type": "code",
        "colab": {}
      },
      "source": [
        ""
      ],
      "execution_count": 0,
      "outputs": []
    },
    {
      "cell_type": "code",
      "metadata": {
        "id": "s8VLU1hzw5mx",
        "colab_type": "code",
        "colab": {}
      },
      "source": [
        ""
      ],
      "execution_count": 0,
      "outputs": []
    },
    {
      "cell_type": "code",
      "metadata": {
        "id": "3G0yvd6qw5jw",
        "colab_type": "code",
        "colab": {}
      },
      "source": [
        ""
      ],
      "execution_count": 0,
      "outputs": []
    },
    {
      "cell_type": "code",
      "metadata": {
        "id": "P3E4pDQmqbJW",
        "colab_type": "code",
        "outputId": "0a7508ab-9c5b-4294-de6f-2f5622d978e1",
        "colab": {
          "base_uri": "https://localhost:8080/",
          "height": 281
        }
      },
      "source": [
        "plt.boxplot( [dfgrouped.get_group('yes')['duration'], dfgrouped.get_group('no')['duration']], labels= ['success','failure'], showmeans=True)\n",
        "plt.title('Duration variation')\n",
        "\n",
        "plt.show()"
      ],
      "execution_count": 30,
      "outputs": [
        {
          "output_type": "display_data",
          "data": {
            "image/png": "[encoded data removed]",
            "text/plain": [
              "<Figure size 432x288 with 1 Axes>"
            ]
          },
          "metadata": {
            "tags": [],
            "needs_background": "light"
          }
        }
      ]
    },
    {
      "cell_type": "code",
      "metadata": {
        "id": "g9JlSwIatIP0",
        "colab_type": "code",
        "colab": {
          "base_uri": "https://localhost:8080/",
          "height": 718
        },
        "outputId": "8c559cc6-93df-4043-9730-1c1decc9f516"
      },
      "source": [
        "sns.set_style('darkgrid')\n",
        "fig,ax = plt.subplots(3,3, figsize = (12,12))\n",
        "\n",
        "ax[0,0] = sns.swarmplot(x='y', y='age', data=df.iloc[:100])\n",
        "ax[0,1] = sns.swarmplot(x='y', y='age', data=df.iloc[101:200])\n",
        "ax[1,2] = sns.swarmplot(x='y', y='age', data=df.iloc[101:200])\n",
        "plt.show()"
      ],
      "execution_count": 39,
      "outputs": [
        {
          "output_type": "display_data",
          "data": {
            "image/png": "[encoded data removed]",
            "text/plain": [
              "<Figure size 864x864 with 9 Axes>"
            ]
          },
          "metadata": {
            "tags": []
          }
        }
      ]
    },
    {
      "cell_type": "code",
      "metadata": {
        "id": "duPFsx9UtINO",
        "colab_type": "code",
        "colab": {}
      },
      "source": [
        ""
      ],
      "execution_count": 0,
      "outputs": []
    },
    {
      "cell_type": "code",
      "metadata": {
        "id": "almlHcrItIKy",
        "colab_type": "code",
        "colab": {}
      },
      "source": [
        ""
      ],
      "execution_count": 0,
      "outputs": []
    },
    {
      "cell_type": "code",
      "metadata": {
        "id": "dt45S5OgBsS1",
        "colab_type": "code",
        "colab": {}
      },
      "source": [
        "df['y'] = df.y.apply(lambda x:0 if x=='no' else 1)"
      ],
      "execution_count": 0,
      "outputs": []
    },
    {
      "cell_type": "code",
      "metadata": {
        "id": "v_jBAR8tBsMX",
        "colab_type": "code",
        "colab": {}
      },
      "source": [
        "df.head()"
      ],
      "execution_count": 0,
      "outputs": []
    },
    {
      "cell_type": "code",
      "metadata": {
        "id": "qL2kWwQ5CQpq",
        "colab_type": "code",
        "colab": {}
      },
      "source": [
        ""
      ],
      "execution_count": 0,
      "outputs": []
    },
    {
      "cell_type": "code",
      "metadata": {
        "id": "Ql0ZUlbS3lrV",
        "colab_type": "code",
        "colab": {}
      },
      "source": [
        "dummy_features = ['job','marital','education','default','housing','loan','poutcome']\n",
        "df1 = pd.get_dummies(df[dummy_features])\n",
        "df2 = pd.concat([df.drop(dummy_features,axis=1),df1],axis=1)"
      ],
      "execution_count": 0,
      "outputs": []
    },
    {
      "cell_type": "code",
      "metadata": {
        "id": "Bocuq9_uBMLA",
        "colab_type": "code",
        "colab": {}
      },
      "source": [
        "df2.head()"
      ],
      "execution_count": 0,
      "outputs": []
    },
    {
      "cell_type": "code",
      "metadata": {
        "id": "GISg8r4pDw2r",
        "colab_type": "code",
        "colab": {}
      },
      "source": [
        "df2.corr()['y'].sort_values()"
      ],
      "execution_count": 0,
      "outputs": []
    },
    {
      "cell_type": "code",
      "metadata": {
        "id": "YLKnDTUWDw0R",
        "colab_type": "code",
        "colab": {}
      },
      "source": [
        "from sklearn.linear_model import LogisticRegression\n",
        "from sklearn.ensemble import RandomForestClassifier\n",
        "from sklearn.svm import SVC\n",
        "from sklearn.preprocessing import StandardScaler\n",
        "from sklearn.model_selection import train_test_split\n",
        "from sklearn.metrics import classification_report, confusion_matrix"
      ],
      "execution_count": 0,
      "outputs": []
    },
    {
      "cell_type": "code",
      "metadata": {
        "id": "cW6EPS1uFfTN",
        "colab_type": "code",
        "colab": {}
      },
      "source": [
        ""
      ],
      "execution_count": 0,
      "outputs": []
    },
    {
      "cell_type": "code",
      "metadata": {
        "id": "M44UNRUBFfQh",
        "colab_type": "code",
        "colab": {}
      },
      "source": [
        "X_train, X_test, y_train, y_test = train_test_split(df2.drop('y',axis=1),\n",
        "                                                    df2['y'],\n",
        "                                                    test_size=.3, random_state = 42,\n",
        "                                                    stratify= df2['y'])"
      ],
      "execution_count": 0,
      "outputs": []
    },
    {
      "cell_type": "code",
      "metadata": {
        "id": "iS1vLYpADwxp",
        "colab_type": "code",
        "colab": {}
      },
      "source": [
        "stsc = StandardScaler()\n",
        "s_X_train = stsc.fit_transform(X_train)\n",
        "s_X_test = stsc.transform(X_test)"
      ],
      "execution_count": 0,
      "outputs": []
    },
    {
      "cell_type": "code",
      "metadata": {
        "id": "PzdG77KKDwu5",
        "colab_type": "code",
        "colab": {}
      },
      "source": [
        "#model = LogisticRegression()\n",
        "#model = SVC()\n",
        "model = RandomForestClassifier()\n",
        "model.fit(s_X_train,y_train)"
      ],
      "execution_count": 0,
      "outputs": []
    },
    {
      "cell_type": "code",
      "metadata": {
        "id": "9l5lMOy-GJNP",
        "colab_type": "code",
        "colab": {}
      },
      "source": [
        "model.score(s_X_train,y_train)"
      ],
      "execution_count": 0,
      "outputs": []
    },
    {
      "cell_type": "code",
      "metadata": {
        "id": "mJZAIMeJGJKr",
        "colab_type": "code",
        "colab": {}
      },
      "source": [
        "model.score(s_X_test,y_test)"
      ],
      "execution_count": 0,
      "outputs": []
    },
    {
      "cell_type": "code",
      "metadata": {
        "id": "WdkhqxGcHpQP",
        "colab_type": "code",
        "colab": {}
      },
      "source": [
        "confusion_matrix(y_train, model.predict(s_X_train))"
      ],
      "execution_count": 0,
      "outputs": []
    },
    {
      "cell_type": "code",
      "metadata": {
        "id": "Byt9oXzdGJIH",
        "colab_type": "code",
        "colab": {}
      },
      "source": [
        "print(classification_report(y_train, model.predict(s_X_train)))"
      ],
      "execution_count": 0,
      "outputs": []
    },
    {
      "cell_type": "code",
      "metadata": {
        "id": "126eHdGmGJFc",
        "colab_type": "code",
        "colab": {}
      },
      "source": [
        "confusion_matrix(y_test, model.predict(s_X_test))"
      ],
      "execution_count": 0,
      "outputs": []
    },
    {
      "cell_type": "code",
      "metadata": {
        "id": "nwXsRDbqH_-O",
        "colab_type": "code",
        "colab": {}
      },
      "source": [
        "print(classification_report(y_test, model.predict(s_X_test)))"
      ],
      "execution_count": 0,
      "outputs": []
    },
    {
      "cell_type": "code",
      "metadata": {
        "id": "NumjTIfQICFC",
        "colab_type": "code",
        "colab": {}
      },
      "source": [
        ""
      ],
      "execution_count": 0,
      "outputs": []
    },
    {
      "cell_type": "code",
      "metadata": {
        "id": "Wx_YrIlDIhWd",
        "colab_type": "code",
        "colab": {}
      },
      "source": [
        ""
      ],
      "execution_count": 0,
      "outputs": []
    },
    {
      "cell_type": "code",
      "metadata": {
        "id": "bSoEEw72IhUB",
        "colab_type": "code",
        "colab": {}
      },
      "source": [
        ""
      ],
      "execution_count": 0,
      "outputs": []
    },
    {
      "cell_type": "code",
      "metadata": {
        "id": "1JFsuzloIhRx",
        "colab_type": "code",
        "colab": {}
      },
      "source": [
        ""
      ],
      "execution_count": 0,
      "outputs": []
    },
    {
      "cell_type": "code",
      "metadata": {
        "id": "k1Rk4n3HIhPF",
        "colab_type": "code",
        "colab": {}
      },
      "source": [
        ""
      ],
      "execution_count": 0,
      "outputs": []
    }
  ]
}