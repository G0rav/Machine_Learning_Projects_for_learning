{
  "nbformat": 4,
  "nbformat_minor": 0,
  "metadata": {
    "colab": {
      "name": "Machine_hack.ipynb",
      "provenance": [],
      "collapsed_sections": [],
      "authorship_tag": "ABX9TyOFfFwep+cz8EZqArk/OXr2",
      "include_colab_link": true
    },
    "kernelspec": {
      "name": "python3",
      "display_name": "Python 3"
    }
  },
  "cells": [
    {
      "cell_type": "markdown",
      "metadata": {
        "id": "view-in-github",
        "colab_type": "text"
      },
      "source": [
        "<a href=\"https://colab.research.google.com/github/G0rav/Machine_Learning_Projects_for_learning/blob/master/Machine_hack.ipynb\" target=\"_parent\"><img src=\"https://colab.research.google.com/assets/colab-badge.svg\" alt=\"Open In Colab\"/></a>"
      ]
    },
    {
      "cell_type": "code",
      "metadata": {
        "id": "U0iB0hb9cJFK",
        "outputId": "63fd239c-4e08-4336-ae22-f00bb5cb92c2",
        "colab": {
          "base_uri": "https://localhost:8080/"
        }
      },
      "source": [
        "from google.colab import drive\n",
        "drive.mount('/content/drive')"
      ],
      "execution_count": 230,
      "outputs": [
        {
          "output_type": "stream",
          "text": [
            "Drive already mounted at /content/drive; to attempt to forcibly remount, call drive.mount(\"/content/drive\", force_remount=True).\n"
          ],
          "name": "stdout"
        }
      ]
    },
    {
      "cell_type": "code",
      "metadata": {
        "id": "Scopmv5KcK_a"
      },
      "source": [
        "import numpy as np\n",
        "import pandas as pd\n",
        "import matplotlib.pyplot as plt\n",
        "import seaborn as sns\n",
        "%matplotlib inline\n",
        " \n",
        "from sklearn.linear_model import LinearRegression\n",
        "from sklearn.tree import DecisionTreeRegressor\n",
        "from sklearn.ensemble import RandomForestRegressor\n",
        "from sklearn.preprocessing import MinMaxScaler, StandardScaler\n",
        "from sklearn.model_selection import train_test_split, cross_val_score\n",
        "from sklearn.metrics import mean_squared_error as MSE\n",
        "from xgboost import XGBRegressor"
      ],
      "execution_count": 357,
      "outputs": []
    },
    {
      "cell_type": "code",
      "metadata": {
        "id": "gB31CEpMcLBK"
      },
      "source": [
        "train = pd.read_csv(\"/content/drive/My Drive/Datasets/Participants_Data_TGIH/Train.csv\")\n",
        "test = pd.read_csv(\"/content/drive/My Drive/Datasets/Participants_Data_TGIH/Test.csv\")\n",
        "sample_submission = pd.read_csv(\"/content/drive/My Drive/Datasets/Participants_Data_TGIH/Sample Submission.csv\")\n",
        "combined = [train, test]"
      ],
      "execution_count": 232,
      "outputs": []
    },
    {
      "cell_type": "code",
      "metadata": {
        "id": "N7uEmgfDcLEe"
      },
      "source": [
        "names = [\"Training\",\"Test\"]\n",
        " \n",
        "def show_df(combined):\n",
        "  for i,data in enumerate(combined):\n",
        "    print(\"{} Data:\".format(names[i]))\n",
        "    display(data.head())\n",
        "    print()\n",
        " \n",
        "def show_info(combined):\n",
        "  for i,data in enumerate(combined):\n",
        "    print(\"{} Data:\".format(names[i]))\n",
        "    display(data.info())\n",
        "    print()"
      ],
      "execution_count": 233,
      "outputs": []
    },
    {
      "cell_type": "code",
      "metadata": {
        "id": "BlHZd1DFcLGL",
        "outputId": "b9e366b7-a824-4e86-9f44-d71a06530dcd",
        "colab": {
          "base_uri": "https://localhost:8080/",
          "height": 612
        }
      },
      "source": [
        "show_info(combined)"
      ],
      "execution_count": 234,
      "outputs": [
        {
          "output_type": "stream",
          "text": [
            "Training Data:\n",
            "<class 'pandas.core.frame.DataFrame'>\n",
            "RangeIndex: 284780 entries, 0 to 284779\n",
            "Data columns (total 8 columns):\n",
            " #   Column       Non-Null Count   Dtype  \n",
            "---  ------       --------------   -----  \n",
            " 0   InvoiceNo    284780 non-null  int64  \n",
            " 1   StockCode    284780 non-null  int64  \n",
            " 2   Description  284780 non-null  int64  \n",
            " 3   Quantity     284780 non-null  int64  \n",
            " 4   InvoiceDate  284780 non-null  object \n",
            " 5   UnitPrice    284780 non-null  float64\n",
            " 6   CustomerID   284780 non-null  float64\n",
            " 7   Country      284780 non-null  int64  \n",
            "dtypes: float64(2), int64(5), object(1)\n",
            "memory usage: 17.4+ MB\n"
          ],
          "name": "stdout"
        },
        {
          "output_type": "display_data",
          "data": {
            "text/plain": [
              "None"
            ]
          },
          "metadata": {
            "tags": []
          }
        },
        {
          "output_type": "stream",
          "text": [
            "\n",
            "Test Data:\n",
            "<class 'pandas.core.frame.DataFrame'>\n",
            "RangeIndex: 122049 entries, 0 to 122048\n",
            "Data columns (total 7 columns):\n",
            " #   Column       Non-Null Count   Dtype  \n",
            "---  ------       --------------   -----  \n",
            " 0   InvoiceNo    122049 non-null  int64  \n",
            " 1   StockCode    122049 non-null  int64  \n",
            " 2   Description  122049 non-null  int64  \n",
            " 3   Quantity     122049 non-null  int64  \n",
            " 4   InvoiceDate  122049 non-null  object \n",
            " 5   CustomerID   122049 non-null  float64\n",
            " 6   Country      122049 non-null  int64  \n",
            "dtypes: float64(1), int64(5), object(1)\n",
            "memory usage: 6.5+ MB\n"
          ],
          "name": "stdout"
        },
        {
          "output_type": "display_data",
          "data": {
            "text/plain": [
              "None"
            ]
          },
          "metadata": {
            "tags": []
          }
        },
        {
          "output_type": "stream",
          "text": [
            "\n"
          ],
          "name": "stdout"
        }
      ]
    },
    {
      "cell_type": "code",
      "metadata": {
        "id": "DATPU16qcLJi",
        "outputId": "39bcf4ac-0c18-4d25-e86f-d3b3c6451f22",
        "colab": {
          "base_uri": "https://localhost:8080/",
          "height": 459
        }
      },
      "source": [
        "show_df(combined)"
      ],
      "execution_count": 235,
      "outputs": [
        {
          "output_type": "stream",
          "text": [
            "Training Data:\n"
          ],
          "name": "stdout"
        },
        {
          "output_type": "display_data",
          "data": {
            "text/html": [
              "<div>\n",
              "<style scoped>\n",
              "    .dataframe tbody tr th:only-of-type {\n",
              "        vertical-align: middle;\n",
              "    }\n",
              "\n",
              "    .dataframe tbody tr th {\n",
              "        vertical-align: top;\n",
              "    }\n",
              "\n",
              "    .dataframe thead th {\n",
              "        text-align: right;\n",
              "    }\n",
              "</style>\n",
              "<table border=\"1\" class=\"dataframe\">\n",
              "  <thead>\n",
              "    <tr style=\"text-align: right;\">\n",
              "      <th></th>\n",
              "      <th>InvoiceNo</th>\n",
              "      <th>StockCode</th>\n",
              "      <th>Description</th>\n",
              "      <th>Quantity</th>\n",
              "      <th>InvoiceDate</th>\n",
              "      <th>UnitPrice</th>\n",
              "      <th>CustomerID</th>\n",
              "      <th>Country</th>\n",
              "    </tr>\n",
              "  </thead>\n",
              "  <tbody>\n",
              "    <tr>\n",
              "      <th>0</th>\n",
              "      <td>6141</td>\n",
              "      <td>1583</td>\n",
              "      <td>144</td>\n",
              "      <td>3</td>\n",
              "      <td>2011-05-06 16:54:00</td>\n",
              "      <td>3.75</td>\n",
              "      <td>14056.0</td>\n",
              "      <td>35</td>\n",
              "    </tr>\n",
              "    <tr>\n",
              "      <th>1</th>\n",
              "      <td>6349</td>\n",
              "      <td>1300</td>\n",
              "      <td>3682</td>\n",
              "      <td>6</td>\n",
              "      <td>2011-05-11 07:35:00</td>\n",
              "      <td>1.95</td>\n",
              "      <td>13098.0</td>\n",
              "      <td>35</td>\n",
              "    </tr>\n",
              "    <tr>\n",
              "      <th>2</th>\n",
              "      <td>16783</td>\n",
              "      <td>2178</td>\n",
              "      <td>1939</td>\n",
              "      <td>4</td>\n",
              "      <td>2011-11-20 13:20:00</td>\n",
              "      <td>5.95</td>\n",
              "      <td>15044.0</td>\n",
              "      <td>35</td>\n",
              "    </tr>\n",
              "    <tr>\n",
              "      <th>3</th>\n",
              "      <td>16971</td>\n",
              "      <td>2115</td>\n",
              "      <td>2983</td>\n",
              "      <td>1</td>\n",
              "      <td>2011-11-22 12:07:00</td>\n",
              "      <td>0.83</td>\n",
              "      <td>15525.0</td>\n",
              "      <td>35</td>\n",
              "    </tr>\n",
              "    <tr>\n",
              "      <th>4</th>\n",
              "      <td>6080</td>\n",
              "      <td>1210</td>\n",
              "      <td>2886</td>\n",
              "      <td>12</td>\n",
              "      <td>2011-05-06 09:00:00</td>\n",
              "      <td>1.65</td>\n",
              "      <td>13952.0</td>\n",
              "      <td>35</td>\n",
              "    </tr>\n",
              "  </tbody>\n",
              "</table>\n",
              "</div>"
            ],
            "text/plain": [
              "   InvoiceNo  StockCode  Description  ...  UnitPrice CustomerID  Country\n",
              "0       6141       1583          144  ...       3.75    14056.0       35\n",
              "1       6349       1300         3682  ...       1.95    13098.0       35\n",
              "2      16783       2178         1939  ...       5.95    15044.0       35\n",
              "3      16971       2115         2983  ...       0.83    15525.0       35\n",
              "4       6080       1210         2886  ...       1.65    13952.0       35\n",
              "\n",
              "[5 rows x 8 columns]"
            ]
          },
          "metadata": {
            "tags": []
          }
        },
        {
          "output_type": "stream",
          "text": [
            "\n",
            "Test Data:\n"
          ],
          "name": "stdout"
        },
        {
          "output_type": "display_data",
          "data": {
            "text/html": [
              "<div>\n",
              "<style scoped>\n",
              "    .dataframe tbody tr th:only-of-type {\n",
              "        vertical-align: middle;\n",
              "    }\n",
              "\n",
              "    .dataframe tbody tr th {\n",
              "        vertical-align: top;\n",
              "    }\n",
              "\n",
              "    .dataframe thead th {\n",
              "        text-align: right;\n",
              "    }\n",
              "</style>\n",
              "<table border=\"1\" class=\"dataframe\">\n",
              "  <thead>\n",
              "    <tr style=\"text-align: right;\">\n",
              "      <th></th>\n",
              "      <th>InvoiceNo</th>\n",
              "      <th>StockCode</th>\n",
              "      <th>Description</th>\n",
              "      <th>Quantity</th>\n",
              "      <th>InvoiceDate</th>\n",
              "      <th>CustomerID</th>\n",
              "      <th>Country</th>\n",
              "    </tr>\n",
              "  </thead>\n",
              "  <tbody>\n",
              "    <tr>\n",
              "      <th>0</th>\n",
              "      <td>3139</td>\n",
              "      <td>1709</td>\n",
              "      <td>1079</td>\n",
              "      <td>3</td>\n",
              "      <td>2011-02-22 15:22:00</td>\n",
              "      <td>16161.0</td>\n",
              "      <td>35</td>\n",
              "    </tr>\n",
              "    <tr>\n",
              "      <th>1</th>\n",
              "      <td>617</td>\n",
              "      <td>510</td>\n",
              "      <td>3457</td>\n",
              "      <td>1</td>\n",
              "      <td>2010-12-08 12:46:00</td>\n",
              "      <td>17341.0</td>\n",
              "      <td>35</td>\n",
              "    </tr>\n",
              "    <tr>\n",
              "      <th>2</th>\n",
              "      <td>14653</td>\n",
              "      <td>604</td>\n",
              "      <td>694</td>\n",
              "      <td>36</td>\n",
              "      <td>2011-10-25 13:53:00</td>\n",
              "      <td>15158.0</td>\n",
              "      <td>35</td>\n",
              "    </tr>\n",
              "    <tr>\n",
              "      <th>3</th>\n",
              "      <td>8634</td>\n",
              "      <td>1478</td>\n",
              "      <td>3473</td>\n",
              "      <td>2</td>\n",
              "      <td>2011-06-27 12:38:00</td>\n",
              "      <td>16033.0</td>\n",
              "      <td>35</td>\n",
              "    </tr>\n",
              "    <tr>\n",
              "      <th>4</th>\n",
              "      <td>15546</td>\n",
              "      <td>3216</td>\n",
              "      <td>871</td>\n",
              "      <td>1</td>\n",
              "      <td>2011-11-06 16:14:00</td>\n",
              "      <td>15351.0</td>\n",
              "      <td>35</td>\n",
              "    </tr>\n",
              "  </tbody>\n",
              "</table>\n",
              "</div>"
            ],
            "text/plain": [
              "   InvoiceNo  StockCode  Description  ...          InvoiceDate CustomerID  Country\n",
              "0       3139       1709         1079  ...  2011-02-22 15:22:00    16161.0       35\n",
              "1        617        510         3457  ...  2010-12-08 12:46:00    17341.0       35\n",
              "2      14653        604          694  ...  2011-10-25 13:53:00    15158.0       35\n",
              "3       8634       1478         3473  ...  2011-06-27 12:38:00    16033.0       35\n",
              "4      15546       3216          871  ...  2011-11-06 16:14:00    15351.0       35\n",
              "\n",
              "[5 rows x 7 columns]"
            ]
          },
          "metadata": {
            "tags": []
          }
        },
        {
          "output_type": "stream",
          "text": [
            "\n"
          ],
          "name": "stdout"
        }
      ]
    },
    {
      "cell_type": "code",
      "metadata": {
        "id": "I__vHahD02CU",
        "outputId": "b421741d-048e-4982-c951-5d11d549cb1e",
        "colab": {
          "base_uri": "https://localhost:8080/"
        }
      },
      "source": [
        "for data in combined:\n",
        "  print(data.isnull().sum())"
      ],
      "execution_count": 236,
      "outputs": [
        {
          "output_type": "stream",
          "text": [
            "InvoiceNo      0\n",
            "StockCode      0\n",
            "Description    0\n",
            "Quantity       0\n",
            "InvoiceDate    0\n",
            "UnitPrice      0\n",
            "CustomerID     0\n",
            "Country        0\n",
            "dtype: int64\n",
            "InvoiceNo      0\n",
            "StockCode      0\n",
            "Description    0\n",
            "Quantity       0\n",
            "InvoiceDate    0\n",
            "CustomerID     0\n",
            "Country        0\n",
            "dtype: int64\n"
          ],
          "name": "stdout"
        }
      ]
    },
    {
      "cell_type": "code",
      "metadata": {
        "id": "TIQFlPOqcLLQ",
        "outputId": "b3049d8c-2cb7-4fca-fc89-f698eb3547bf",
        "colab": {
          "base_uri": "https://localhost:8080/",
          "height": 612
        }
      },
      "source": [
        "for data in combined:\n",
        "  data['InvoiceDate'] = pd.to_datetime(data['InvoiceDate'])\n",
        "  #data.set_index('InvoiceDate',inplace= True)\n",
        " \n",
        "show_info(combined)"
      ],
      "execution_count": 237,
      "outputs": [
        {
          "output_type": "stream",
          "text": [
            "Training Data:\n",
            "<class 'pandas.core.frame.DataFrame'>\n",
            "RangeIndex: 284780 entries, 0 to 284779\n",
            "Data columns (total 8 columns):\n",
            " #   Column       Non-Null Count   Dtype         \n",
            "---  ------       --------------   -----         \n",
            " 0   InvoiceNo    284780 non-null  int64         \n",
            " 1   StockCode    284780 non-null  int64         \n",
            " 2   Description  284780 non-null  int64         \n",
            " 3   Quantity     284780 non-null  int64         \n",
            " 4   InvoiceDate  284780 non-null  datetime64[ns]\n",
            " 5   UnitPrice    284780 non-null  float64       \n",
            " 6   CustomerID   284780 non-null  float64       \n",
            " 7   Country      284780 non-null  int64         \n",
            "dtypes: datetime64[ns](1), float64(2), int64(5)\n",
            "memory usage: 17.4 MB\n"
          ],
          "name": "stdout"
        },
        {
          "output_type": "display_data",
          "data": {
            "text/plain": [
              "None"
            ]
          },
          "metadata": {
            "tags": []
          }
        },
        {
          "output_type": "stream",
          "text": [
            "\n",
            "Test Data:\n",
            "<class 'pandas.core.frame.DataFrame'>\n",
            "RangeIndex: 122049 entries, 0 to 122048\n",
            "Data columns (total 7 columns):\n",
            " #   Column       Non-Null Count   Dtype         \n",
            "---  ------       --------------   -----         \n",
            " 0   InvoiceNo    122049 non-null  int64         \n",
            " 1   StockCode    122049 non-null  int64         \n",
            " 2   Description  122049 non-null  int64         \n",
            " 3   Quantity     122049 non-null  int64         \n",
            " 4   InvoiceDate  122049 non-null  datetime64[ns]\n",
            " 5   CustomerID   122049 non-null  float64       \n",
            " 6   Country      122049 non-null  int64         \n",
            "dtypes: datetime64[ns](1), float64(1), int64(5)\n",
            "memory usage: 6.5 MB\n"
          ],
          "name": "stdout"
        },
        {
          "output_type": "display_data",
          "data": {
            "text/plain": [
              "None"
            ]
          },
          "metadata": {
            "tags": []
          }
        },
        {
          "output_type": "stream",
          "text": [
            "\n"
          ],
          "name": "stdout"
        }
      ]
    },
    {
      "cell_type": "code",
      "metadata": {
        "id": "hTo_IBaWSkkg"
      },
      "source": [
        "train['month'] = train['InvoiceDate'].dt.month\n",
        "train['day'] = train['InvoiceDate'].dt.day\n",
        "train['hour'] = train['InvoiceDate'].dt.hour\n",
        "train['minute'] = train['InvoiceDate'].dt.minute\n",
        " \n",
        "test['month'] = test['InvoiceDate'].dt.month\n",
        "test['day'] = test['InvoiceDate'].dt.day\n",
        "test['hour'] = test['InvoiceDate'].dt.hour\n",
        "test['minute'] = test['InvoiceDate'].dt.minute"
      ],
      "execution_count": 238,
      "outputs": []
    },
    {
      "cell_type": "code",
      "metadata": {
        "id": "Pbs9mhh9Sk2I",
        "outputId": "944f7ff8-746f-4907-8fb9-16dbd2e7377d",
        "colab": {
          "base_uri": "https://localhost:8080/",
          "height": 714
        }
      },
      "source": [
        "for data in combined:\n",
        "  #data['InvoiceDate'] = pd.to_datetime(data['InvoiceDate'])\n",
        "  data.set_index('InvoiceDate',inplace= True)\n",
        " \n",
        "show_info(combined)"
      ],
      "execution_count": 239,
      "outputs": [
        {
          "output_type": "stream",
          "text": [
            "Training Data:\n",
            "<class 'pandas.core.frame.DataFrame'>\n",
            "DatetimeIndex: 284780 entries, 2011-05-06 16:54:00 to 2011-08-22 13:30:00\n",
            "Data columns (total 11 columns):\n",
            " #   Column       Non-Null Count   Dtype  \n",
            "---  ------       --------------   -----  \n",
            " 0   InvoiceNo    284780 non-null  int64  \n",
            " 1   StockCode    284780 non-null  int64  \n",
            " 2   Description  284780 non-null  int64  \n",
            " 3   Quantity     284780 non-null  int64  \n",
            " 4   UnitPrice    284780 non-null  float64\n",
            " 5   CustomerID   284780 non-null  float64\n",
            " 6   Country      284780 non-null  int64  \n",
            " 7   month        284780 non-null  int64  \n",
            " 8   day          284780 non-null  int64  \n",
            " 9   hour         284780 non-null  int64  \n",
            " 10  minute       284780 non-null  int64  \n",
            "dtypes: float64(2), int64(9)\n",
            "memory usage: 26.1 MB\n"
          ],
          "name": "stdout"
        },
        {
          "output_type": "display_data",
          "data": {
            "text/plain": [
              "None"
            ]
          },
          "metadata": {
            "tags": []
          }
        },
        {
          "output_type": "stream",
          "text": [
            "\n",
            "Test Data:\n",
            "<class 'pandas.core.frame.DataFrame'>\n",
            "DatetimeIndex: 122049 entries, 2011-02-22 15:22:00 to 2011-09-12 13:50:00\n",
            "Data columns (total 10 columns):\n",
            " #   Column       Non-Null Count   Dtype  \n",
            "---  ------       --------------   -----  \n",
            " 0   InvoiceNo    122049 non-null  int64  \n",
            " 1   StockCode    122049 non-null  int64  \n",
            " 2   Description  122049 non-null  int64  \n",
            " 3   Quantity     122049 non-null  int64  \n",
            " 4   CustomerID   122049 non-null  float64\n",
            " 5   Country      122049 non-null  int64  \n",
            " 6   month        122049 non-null  int64  \n",
            " 7   day          122049 non-null  int64  \n",
            " 8   hour         122049 non-null  int64  \n",
            " 9   minute       122049 non-null  int64  \n",
            "dtypes: float64(1), int64(9)\n",
            "memory usage: 10.2 MB\n"
          ],
          "name": "stdout"
        },
        {
          "output_type": "display_data",
          "data": {
            "text/plain": [
              "None"
            ]
          },
          "metadata": {
            "tags": []
          }
        },
        {
          "output_type": "stream",
          "text": [
            "\n"
          ],
          "name": "stdout"
        }
      ]
    },
    {
      "cell_type": "code",
      "metadata": {
        "id": "gZoZOS8Y1orP",
        "outputId": "2f3bb832-00e2-4fd9-a0b0-5c8148fb0e07",
        "colab": {
          "base_uri": "https://localhost:8080/",
          "height": 521
        }
      },
      "source": [
        "show_df(combined)"
      ],
      "execution_count": 240,
      "outputs": [
        {
          "output_type": "stream",
          "text": [
            "Training Data:\n"
          ],
          "name": "stdout"
        },
        {
          "output_type": "display_data",
          "data": {
            "text/html": [
              "<div>\n",
              "<style scoped>\n",
              "    .dataframe tbody tr th:only-of-type {\n",
              "        vertical-align: middle;\n",
              "    }\n",
              "\n",
              "    .dataframe tbody tr th {\n",
              "        vertical-align: top;\n",
              "    }\n",
              "\n",
              "    .dataframe thead th {\n",
              "        text-align: right;\n",
              "    }\n",
              "</style>\n",
              "<table border=\"1\" class=\"dataframe\">\n",
              "  <thead>\n",
              "    <tr style=\"text-align: right;\">\n",
              "      <th></th>\n",
              "      <th>InvoiceNo</th>\n",
              "      <th>StockCode</th>\n",
              "      <th>Description</th>\n",
              "      <th>Quantity</th>\n",
              "      <th>UnitPrice</th>\n",
              "      <th>CustomerID</th>\n",
              "      <th>Country</th>\n",
              "      <th>month</th>\n",
              "      <th>day</th>\n",
              "      <th>hour</th>\n",
              "      <th>minute</th>\n",
              "    </tr>\n",
              "    <tr>\n",
              "      <th>InvoiceDate</th>\n",
              "      <th></th>\n",
              "      <th></th>\n",
              "      <th></th>\n",
              "      <th></th>\n",
              "      <th></th>\n",
              "      <th></th>\n",
              "      <th></th>\n",
              "      <th></th>\n",
              "      <th></th>\n",
              "      <th></th>\n",
              "      <th></th>\n",
              "    </tr>\n",
              "  </thead>\n",
              "  <tbody>\n",
              "    <tr>\n",
              "      <th>2011-05-06 16:54:00</th>\n",
              "      <td>6141</td>\n",
              "      <td>1583</td>\n",
              "      <td>144</td>\n",
              "      <td>3</td>\n",
              "      <td>3.75</td>\n",
              "      <td>14056.0</td>\n",
              "      <td>35</td>\n",
              "      <td>5</td>\n",
              "      <td>6</td>\n",
              "      <td>16</td>\n",
              "      <td>54</td>\n",
              "    </tr>\n",
              "    <tr>\n",
              "      <th>2011-05-11 07:35:00</th>\n",
              "      <td>6349</td>\n",
              "      <td>1300</td>\n",
              "      <td>3682</td>\n",
              "      <td>6</td>\n",
              "      <td>1.95</td>\n",
              "      <td>13098.0</td>\n",
              "      <td>35</td>\n",
              "      <td>5</td>\n",
              "      <td>11</td>\n",
              "      <td>7</td>\n",
              "      <td>35</td>\n",
              "    </tr>\n",
              "    <tr>\n",
              "      <th>2011-11-20 13:20:00</th>\n",
              "      <td>16783</td>\n",
              "      <td>2178</td>\n",
              "      <td>1939</td>\n",
              "      <td>4</td>\n",
              "      <td>5.95</td>\n",
              "      <td>15044.0</td>\n",
              "      <td>35</td>\n",
              "      <td>11</td>\n",
              "      <td>20</td>\n",
              "      <td>13</td>\n",
              "      <td>20</td>\n",
              "    </tr>\n",
              "    <tr>\n",
              "      <th>2011-11-22 12:07:00</th>\n",
              "      <td>16971</td>\n",
              "      <td>2115</td>\n",
              "      <td>2983</td>\n",
              "      <td>1</td>\n",
              "      <td>0.83</td>\n",
              "      <td>15525.0</td>\n",
              "      <td>35</td>\n",
              "      <td>11</td>\n",
              "      <td>22</td>\n",
              "      <td>12</td>\n",
              "      <td>7</td>\n",
              "    </tr>\n",
              "    <tr>\n",
              "      <th>2011-05-06 09:00:00</th>\n",
              "      <td>6080</td>\n",
              "      <td>1210</td>\n",
              "      <td>2886</td>\n",
              "      <td>12</td>\n",
              "      <td>1.65</td>\n",
              "      <td>13952.0</td>\n",
              "      <td>35</td>\n",
              "      <td>5</td>\n",
              "      <td>6</td>\n",
              "      <td>9</td>\n",
              "      <td>0</td>\n",
              "    </tr>\n",
              "  </tbody>\n",
              "</table>\n",
              "</div>"
            ],
            "text/plain": [
              "                     InvoiceNo  StockCode  Description  ...  day  hour  minute\n",
              "InvoiceDate                                             ...                   \n",
              "2011-05-06 16:54:00       6141       1583          144  ...    6    16      54\n",
              "2011-05-11 07:35:00       6349       1300         3682  ...   11     7      35\n",
              "2011-11-20 13:20:00      16783       2178         1939  ...   20    13      20\n",
              "2011-11-22 12:07:00      16971       2115         2983  ...   22    12       7\n",
              "2011-05-06 09:00:00       6080       1210         2886  ...    6     9       0\n",
              "\n",
              "[5 rows x 11 columns]"
            ]
          },
          "metadata": {
            "tags": []
          }
        },
        {
          "output_type": "stream",
          "text": [
            "\n",
            "Test Data:\n"
          ],
          "name": "stdout"
        },
        {
          "output_type": "display_data",
          "data": {
            "text/html": [
              "<div>\n",
              "<style scoped>\n",
              "    .dataframe tbody tr th:only-of-type {\n",
              "        vertical-align: middle;\n",
              "    }\n",
              "\n",
              "    .dataframe tbody tr th {\n",
              "        vertical-align: top;\n",
              "    }\n",
              "\n",
              "    .dataframe thead th {\n",
              "        text-align: right;\n",
              "    }\n",
              "</style>\n",
              "<table border=\"1\" class=\"dataframe\">\n",
              "  <thead>\n",
              "    <tr style=\"text-align: right;\">\n",
              "      <th></th>\n",
              "      <th>InvoiceNo</th>\n",
              "      <th>StockCode</th>\n",
              "      <th>Description</th>\n",
              "      <th>Quantity</th>\n",
              "      <th>CustomerID</th>\n",
              "      <th>Country</th>\n",
              "      <th>month</th>\n",
              "      <th>day</th>\n",
              "      <th>hour</th>\n",
              "      <th>minute</th>\n",
              "    </tr>\n",
              "    <tr>\n",
              "      <th>InvoiceDate</th>\n",
              "      <th></th>\n",
              "      <th></th>\n",
              "      <th></th>\n",
              "      <th></th>\n",
              "      <th></th>\n",
              "      <th></th>\n",
              "      <th></th>\n",
              "      <th></th>\n",
              "      <th></th>\n",
              "      <th></th>\n",
              "    </tr>\n",
              "  </thead>\n",
              "  <tbody>\n",
              "    <tr>\n",
              "      <th>2011-02-22 15:22:00</th>\n",
              "      <td>3139</td>\n",
              "      <td>1709</td>\n",
              "      <td>1079</td>\n",
              "      <td>3</td>\n",
              "      <td>16161.0</td>\n",
              "      <td>35</td>\n",
              "      <td>2</td>\n",
              "      <td>22</td>\n",
              "      <td>15</td>\n",
              "      <td>22</td>\n",
              "    </tr>\n",
              "    <tr>\n",
              "      <th>2010-12-08 12:46:00</th>\n",
              "      <td>617</td>\n",
              "      <td>510</td>\n",
              "      <td>3457</td>\n",
              "      <td>1</td>\n",
              "      <td>17341.0</td>\n",
              "      <td>35</td>\n",
              "      <td>12</td>\n",
              "      <td>8</td>\n",
              "      <td>12</td>\n",
              "      <td>46</td>\n",
              "    </tr>\n",
              "    <tr>\n",
              "      <th>2011-10-25 13:53:00</th>\n",
              "      <td>14653</td>\n",
              "      <td>604</td>\n",
              "      <td>694</td>\n",
              "      <td>36</td>\n",
              "      <td>15158.0</td>\n",
              "      <td>35</td>\n",
              "      <td>10</td>\n",
              "      <td>25</td>\n",
              "      <td>13</td>\n",
              "      <td>53</td>\n",
              "    </tr>\n",
              "    <tr>\n",
              "      <th>2011-06-27 12:38:00</th>\n",
              "      <td>8634</td>\n",
              "      <td>1478</td>\n",
              "      <td>3473</td>\n",
              "      <td>2</td>\n",
              "      <td>16033.0</td>\n",
              "      <td>35</td>\n",
              "      <td>6</td>\n",
              "      <td>27</td>\n",
              "      <td>12</td>\n",
              "      <td>38</td>\n",
              "    </tr>\n",
              "    <tr>\n",
              "      <th>2011-11-06 16:14:00</th>\n",
              "      <td>15546</td>\n",
              "      <td>3216</td>\n",
              "      <td>871</td>\n",
              "      <td>1</td>\n",
              "      <td>15351.0</td>\n",
              "      <td>35</td>\n",
              "      <td>11</td>\n",
              "      <td>6</td>\n",
              "      <td>16</td>\n",
              "      <td>14</td>\n",
              "    </tr>\n",
              "  </tbody>\n",
              "</table>\n",
              "</div>"
            ],
            "text/plain": [
              "                     InvoiceNo  StockCode  Description  ...  day  hour  minute\n",
              "InvoiceDate                                             ...                   \n",
              "2011-02-22 15:22:00       3139       1709         1079  ...   22    15      22\n",
              "2010-12-08 12:46:00        617        510         3457  ...    8    12      46\n",
              "2011-10-25 13:53:00      14653        604          694  ...   25    13      53\n",
              "2011-06-27 12:38:00       8634       1478         3473  ...   27    12      38\n",
              "2011-11-06 16:14:00      15546       3216          871  ...    6    16      14\n",
              "\n",
              "[5 rows x 10 columns]"
            ]
          },
          "metadata": {
            "tags": []
          }
        },
        {
          "output_type": "stream",
          "text": [
            "\n"
          ],
          "name": "stdout"
        }
      ]
    },
    {
      "cell_type": "code",
      "metadata": {
        "id": "q0mAkFRUo2gv",
        "outputId": "d3a1dca5-2aa7-4f4c-9ac5-4429ca2782c6",
        "colab": {
          "base_uri": "https://localhost:8080/",
          "height": 390
        }
      },
      "source": [
        "train.describe().transpose()"
      ],
      "execution_count": 241,
      "outputs": [
        {
          "output_type": "execute_result",
          "data": {
            "text/html": [
              "<div>\n",
              "<style scoped>\n",
              "    .dataframe tbody tr th:only-of-type {\n",
              "        vertical-align: middle;\n",
              "    }\n",
              "\n",
              "    .dataframe tbody tr th {\n",
              "        vertical-align: top;\n",
              "    }\n",
              "\n",
              "    .dataframe thead th {\n",
              "        text-align: right;\n",
              "    }\n",
              "</style>\n",
              "<table border=\"1\" class=\"dataframe\">\n",
              "  <thead>\n",
              "    <tr style=\"text-align: right;\">\n",
              "      <th></th>\n",
              "      <th>count</th>\n",
              "      <th>mean</th>\n",
              "      <th>std</th>\n",
              "      <th>min</th>\n",
              "      <th>25%</th>\n",
              "      <th>50%</th>\n",
              "      <th>75%</th>\n",
              "      <th>max</th>\n",
              "    </tr>\n",
              "  </thead>\n",
              "  <tbody>\n",
              "    <tr>\n",
              "      <th>InvoiceNo</th>\n",
              "      <td>284780.0</td>\n",
              "      <td>9955.394083</td>\n",
              "      <td>5551.519138</td>\n",
              "      <td>0.0</td>\n",
              "      <td>5069.00</td>\n",
              "      <td>10310.00</td>\n",
              "      <td>14657.00</td>\n",
              "      <td>22188.0</td>\n",
              "    </tr>\n",
              "    <tr>\n",
              "      <th>StockCode</th>\n",
              "      <td>284780.0</td>\n",
              "      <td>1573.386807</td>\n",
              "      <td>843.604991</td>\n",
              "      <td>0.0</td>\n",
              "      <td>939.00</td>\n",
              "      <td>1521.00</td>\n",
              "      <td>2106.00</td>\n",
              "      <td>3683.0</td>\n",
              "    </tr>\n",
              "    <tr>\n",
              "      <th>Description</th>\n",
              "      <td>284780.0</td>\n",
              "      <td>2023.955573</td>\n",
              "      <td>1089.812078</td>\n",
              "      <td>0.0</td>\n",
              "      <td>1141.00</td>\n",
              "      <td>1987.00</td>\n",
              "      <td>2945.00</td>\n",
              "      <td>3895.0</td>\n",
              "    </tr>\n",
              "    <tr>\n",
              "      <th>Quantity</th>\n",
              "      <td>284780.0</td>\n",
              "      <td>12.028468</td>\n",
              "      <td>295.111588</td>\n",
              "      <td>-80995.0</td>\n",
              "      <td>2.00</td>\n",
              "      <td>5.00</td>\n",
              "      <td>12.00</td>\n",
              "      <td>80995.0</td>\n",
              "    </tr>\n",
              "    <tr>\n",
              "      <th>UnitPrice</th>\n",
              "      <td>284780.0</td>\n",
              "      <td>3.451216</td>\n",
              "      <td>78.399541</td>\n",
              "      <td>0.0</td>\n",
              "      <td>1.25</td>\n",
              "      <td>1.95</td>\n",
              "      <td>3.75</td>\n",
              "      <td>38970.0</td>\n",
              "    </tr>\n",
              "    <tr>\n",
              "      <th>CustomerID</th>\n",
              "      <td>284780.0</td>\n",
              "      <td>15288.224278</td>\n",
              "      <td>1714.336529</td>\n",
              "      <td>12346.0</td>\n",
              "      <td>13953.00</td>\n",
              "      <td>15152.00</td>\n",
              "      <td>16794.00</td>\n",
              "      <td>18287.0</td>\n",
              "    </tr>\n",
              "    <tr>\n",
              "      <th>Country</th>\n",
              "      <td>284780.0</td>\n",
              "      <td>32.823846</td>\n",
              "      <td>6.743602</td>\n",
              "      <td>0.0</td>\n",
              "      <td>35.00</td>\n",
              "      <td>35.00</td>\n",
              "      <td>35.00</td>\n",
              "      <td>36.0</td>\n",
              "    </tr>\n",
              "    <tr>\n",
              "      <th>month</th>\n",
              "      <td>284780.0</td>\n",
              "      <td>7.612922</td>\n",
              "      <td>3.415785</td>\n",
              "      <td>1.0</td>\n",
              "      <td>5.00</td>\n",
              "      <td>8.00</td>\n",
              "      <td>11.00</td>\n",
              "      <td>12.0</td>\n",
              "    </tr>\n",
              "    <tr>\n",
              "      <th>day</th>\n",
              "      <td>284780.0</td>\n",
              "      <td>15.030318</td>\n",
              "      <td>8.652114</td>\n",
              "      <td>1.0</td>\n",
              "      <td>7.00</td>\n",
              "      <td>15.00</td>\n",
              "      <td>22.00</td>\n",
              "      <td>31.0</td>\n",
              "    </tr>\n",
              "    <tr>\n",
              "      <th>hour</th>\n",
              "      <td>284780.0</td>\n",
              "      <td>12.738064</td>\n",
              "      <td>2.288886</td>\n",
              "      <td>6.0</td>\n",
              "      <td>11.00</td>\n",
              "      <td>13.00</td>\n",
              "      <td>14.00</td>\n",
              "      <td>20.0</td>\n",
              "    </tr>\n",
              "    <tr>\n",
              "      <th>minute</th>\n",
              "      <td>284780.0</td>\n",
              "      <td>30.408094</td>\n",
              "      <td>17.074389</td>\n",
              "      <td>0.0</td>\n",
              "      <td>16.00</td>\n",
              "      <td>31.00</td>\n",
              "      <td>45.00</td>\n",
              "      <td>59.0</td>\n",
              "    </tr>\n",
              "  </tbody>\n",
              "</table>\n",
              "</div>"
            ],
            "text/plain": [
              "                count          mean          std  ...       50%       75%      max\n",
              "InvoiceNo    284780.0   9955.394083  5551.519138  ...  10310.00  14657.00  22188.0\n",
              "StockCode    284780.0   1573.386807   843.604991  ...   1521.00   2106.00   3683.0\n",
              "Description  284780.0   2023.955573  1089.812078  ...   1987.00   2945.00   3895.0\n",
              "Quantity     284780.0     12.028468   295.111588  ...      5.00     12.00  80995.0\n",
              "UnitPrice    284780.0      3.451216    78.399541  ...      1.95      3.75  38970.0\n",
              "CustomerID   284780.0  15288.224278  1714.336529  ...  15152.00  16794.00  18287.0\n",
              "Country      284780.0     32.823846     6.743602  ...     35.00     35.00     36.0\n",
              "month        284780.0      7.612922     3.415785  ...      8.00     11.00     12.0\n",
              "day          284780.0     15.030318     8.652114  ...     15.00     22.00     31.0\n",
              "hour         284780.0     12.738064     2.288886  ...     13.00     14.00     20.0\n",
              "minute       284780.0     30.408094    17.074389  ...     31.00     45.00     59.0\n",
              "\n",
              "[11 rows x 8 columns]"
            ]
          },
          "metadata": {
            "tags": []
          },
          "execution_count": 241
        }
      ]
    },
    {
      "cell_type": "code",
      "metadata": {
        "id": "rkeD29TL1FBa",
        "outputId": "bdd94e9c-b5b5-407a-f34f-11147e383ef0",
        "colab": {
          "base_uri": "https://localhost:8080/",
          "height": 359
        }
      },
      "source": [
        "test.describe().transpose()"
      ],
      "execution_count": 242,
      "outputs": [
        {
          "output_type": "execute_result",
          "data": {
            "text/html": [
              "<div>\n",
              "<style scoped>\n",
              "    .dataframe tbody tr th:only-of-type {\n",
              "        vertical-align: middle;\n",
              "    }\n",
              "\n",
              "    .dataframe tbody tr th {\n",
              "        vertical-align: top;\n",
              "    }\n",
              "\n",
              "    .dataframe thead th {\n",
              "        text-align: right;\n",
              "    }\n",
              "</style>\n",
              "<table border=\"1\" class=\"dataframe\">\n",
              "  <thead>\n",
              "    <tr style=\"text-align: right;\">\n",
              "      <th></th>\n",
              "      <th>count</th>\n",
              "      <th>mean</th>\n",
              "      <th>std</th>\n",
              "      <th>min</th>\n",
              "      <th>25%</th>\n",
              "      <th>50%</th>\n",
              "      <th>75%</th>\n",
              "      <th>max</th>\n",
              "    </tr>\n",
              "  </thead>\n",
              "  <tbody>\n",
              "    <tr>\n",
              "      <th>InvoiceNo</th>\n",
              "      <td>122049.0</td>\n",
              "      <td>9940.419692</td>\n",
              "      <td>5554.116349</td>\n",
              "      <td>0.0</td>\n",
              "      <td>5018.0</td>\n",
              "      <td>10311.0</td>\n",
              "      <td>14635.0</td>\n",
              "      <td>22189.0</td>\n",
              "    </tr>\n",
              "    <tr>\n",
              "      <th>StockCode</th>\n",
              "      <td>122049.0</td>\n",
              "      <td>1572.955788</td>\n",
              "      <td>845.106082</td>\n",
              "      <td>0.0</td>\n",
              "      <td>937.0</td>\n",
              "      <td>1523.0</td>\n",
              "      <td>2106.0</td>\n",
              "      <td>3683.0</td>\n",
              "    </tr>\n",
              "    <tr>\n",
              "      <th>Description</th>\n",
              "      <td>122049.0</td>\n",
              "      <td>2026.412744</td>\n",
              "      <td>1087.697388</td>\n",
              "      <td>0.0</td>\n",
              "      <td>1147.0</td>\n",
              "      <td>1987.0</td>\n",
              "      <td>2945.0</td>\n",
              "      <td>3895.0</td>\n",
              "    </tr>\n",
              "    <tr>\n",
              "      <th>Quantity</th>\n",
              "      <td>122049.0</td>\n",
              "      <td>12.137920</td>\n",
              "      <td>54.311646</td>\n",
              "      <td>-9360.0</td>\n",
              "      <td>2.0</td>\n",
              "      <td>5.0</td>\n",
              "      <td>12.0</td>\n",
              "      <td>4800.0</td>\n",
              "    </tr>\n",
              "    <tr>\n",
              "      <th>CustomerID</th>\n",
              "      <td>122049.0</td>\n",
              "      <td>15286.445256</td>\n",
              "      <td>1711.887591</td>\n",
              "      <td>12347.0</td>\n",
              "      <td>13953.0</td>\n",
              "      <td>15152.0</td>\n",
              "      <td>16782.0</td>\n",
              "      <td>18287.0</td>\n",
              "    </tr>\n",
              "    <tr>\n",
              "      <th>Country</th>\n",
              "      <td>122049.0</td>\n",
              "      <td>32.836795</td>\n",
              "      <td>6.726816</td>\n",
              "      <td>0.0</td>\n",
              "      <td>35.0</td>\n",
              "      <td>35.0</td>\n",
              "      <td>35.0</td>\n",
              "      <td>36.0</td>\n",
              "    </tr>\n",
              "    <tr>\n",
              "      <th>month</th>\n",
              "      <td>122049.0</td>\n",
              "      <td>7.589673</td>\n",
              "      <td>3.426258</td>\n",
              "      <td>1.0</td>\n",
              "      <td>5.0</td>\n",
              "      <td>8.0</td>\n",
              "      <td>11.0</td>\n",
              "      <td>12.0</td>\n",
              "    </tr>\n",
              "    <tr>\n",
              "      <th>day</th>\n",
              "      <td>122049.0</td>\n",
              "      <td>15.049685</td>\n",
              "      <td>8.657520</td>\n",
              "      <td>1.0</td>\n",
              "      <td>7.0</td>\n",
              "      <td>15.0</td>\n",
              "      <td>22.0</td>\n",
              "      <td>31.0</td>\n",
              "    </tr>\n",
              "    <tr>\n",
              "      <th>hour</th>\n",
              "      <td>122049.0</td>\n",
              "      <td>12.736090</td>\n",
              "      <td>2.275754</td>\n",
              "      <td>6.0</td>\n",
              "      <td>11.0</td>\n",
              "      <td>13.0</td>\n",
              "      <td>14.0</td>\n",
              "      <td>20.0</td>\n",
              "    </tr>\n",
              "    <tr>\n",
              "      <th>minute</th>\n",
              "      <td>122049.0</td>\n",
              "      <td>30.373063</td>\n",
              "      <td>17.112054</td>\n",
              "      <td>0.0</td>\n",
              "      <td>16.0</td>\n",
              "      <td>31.0</td>\n",
              "      <td>45.0</td>\n",
              "      <td>59.0</td>\n",
              "    </tr>\n",
              "  </tbody>\n",
              "</table>\n",
              "</div>"
            ],
            "text/plain": [
              "                count          mean          std  ...      50%      75%      max\n",
              "InvoiceNo    122049.0   9940.419692  5554.116349  ...  10311.0  14635.0  22189.0\n",
              "StockCode    122049.0   1572.955788   845.106082  ...   1523.0   2106.0   3683.0\n",
              "Description  122049.0   2026.412744  1087.697388  ...   1987.0   2945.0   3895.0\n",
              "Quantity     122049.0     12.137920    54.311646  ...      5.0     12.0   4800.0\n",
              "CustomerID   122049.0  15286.445256  1711.887591  ...  15152.0  16782.0  18287.0\n",
              "Country      122049.0     32.836795     6.726816  ...     35.0     35.0     36.0\n",
              "month        122049.0      7.589673     3.426258  ...      8.0     11.0     12.0\n",
              "day          122049.0     15.049685     8.657520  ...     15.0     22.0     31.0\n",
              "hour         122049.0     12.736090     2.275754  ...     13.0     14.0     20.0\n",
              "minute       122049.0     30.373063    17.112054  ...     31.0     45.0     59.0\n",
              "\n",
              "[10 rows x 8 columns]"
            ]
          },
          "metadata": {
            "tags": []
          },
          "execution_count": 242
        }
      ]
    },
    {
      "cell_type": "code",
      "metadata": {
        "id": "AdTP8OltJIRL",
        "outputId": "044a4abf-6b88-4682-aef9-afa281997405",
        "colab": {
          "base_uri": "https://localhost:8080/"
        }
      },
      "source": [
        "train.corr()['UnitPrice'].sort_values()"
      ],
      "execution_count": 243,
      "outputs": [
        {
          "output_type": "execute_result",
          "data": {
            "text/plain": [
              "Country       -0.005378\n",
              "CustomerID    -0.004932\n",
              "month         -0.002478\n",
              "day           -0.000975\n",
              "Quantity      -0.000924\n",
              "minute        -0.000523\n",
              "Description   -0.000424\n",
              "hour           0.002002\n",
              "InvoiceNo      0.007927\n",
              "StockCode      0.020073\n",
              "UnitPrice      1.000000\n",
              "Name: UnitPrice, dtype: float64"
            ]
          },
          "metadata": {
            "tags": []
          },
          "execution_count": 243
        }
      ]
    },
    {
      "cell_type": "code",
      "metadata": {
        "id": "D0CkffPl2j0z",
        "outputId": "e45ef40b-bcd9-4385-cbbb-6a2d67e68c46",
        "colab": {
          "base_uri": "https://localhost:8080/"
        }
      },
      "source": [
        "for name,data in zip(names,combined):\n",
        "  print(f'{name} data:')\n",
        "  print(data.nunique())\n",
        "  print()"
      ],
      "execution_count": 244,
      "outputs": [
        {
          "output_type": "stream",
          "text": [
            "Training data:\n",
            "InvoiceNo      20971\n",
            "StockCode       3619\n",
            "Description     3819\n",
            "Quantity         373\n",
            "UnitPrice        524\n",
            "CustomerID      4339\n",
            "Country           37\n",
            "month             12\n",
            "day               31\n",
            "hour              15\n",
            "minute            60\n",
            "dtype: int64\n",
            "\n",
            "Test data:\n",
            "InvoiceNo      18204\n",
            "StockCode       3410\n",
            "Description     3563\n",
            "Quantity         274\n",
            "CustomerID      4226\n",
            "Country           37\n",
            "month             12\n",
            "day               31\n",
            "hour              15\n",
            "minute            60\n",
            "dtype: int64\n",
            "\n"
          ],
          "name": "stdout"
        }
      ]
    },
    {
      "cell_type": "code",
      "metadata": {
        "id": "E1IJM42T4Khs",
        "outputId": "daa2fbe5-9d89-45e6-d083-89b48ba609dd",
        "colab": {
          "base_uri": "https://localhost:8080/",
          "height": 765
        }
      },
      "source": [
        "for name,data in zip(names,combined):\n",
        "  plt.figure(figsize = (8,6))\n",
        "  data[\"Quantity\"].plot()\n",
        "  plt.title(\"{} Quantity\".format(name))\n",
        " \n",
        "  plt.show()"
      ],
      "execution_count": 245,
      "outputs": [
        {
          "output_type": "display_data",
          "data": {
            "image/png": "[encoded data removed]",
            "text/plain": [
              "<Figure size 576x432 with 1 Axes>"
            ]
          },
          "metadata": {
            "tags": [],
            "needs_background": "light"
          }
        },
        {
          "output_type": "display_data",
          "data": {
            "image/png": "[encoded data removed]",
            "text/plain": [
              "<Figure size 576x432 with 1 Axes>"
            ]
          },
          "metadata": {
            "tags": [],
            "needs_background": "light"
          }
        }
      ]
    },
    {
      "cell_type": "code",
      "metadata": {
        "id": "1u9ceTLNB7sj",
        "outputId": "d8f8b53e-a248-46c5-869e-fd1deaa7e2cf",
        "colab": {
          "base_uri": "https://localhost:8080/",
          "height": 545
        }
      },
      "source": [
        "for name,data in zip(names,combined):\n",
        "  #plt.figure(figsize = (8,6))\n",
        "  plt.hist(data[\"Quantity\"])\n",
        "  plt.title(\"{} Quantity\".format(name))\n",
        " \n",
        "  plt.show()"
      ],
      "execution_count": 246,
      "outputs": [
        {
          "output_type": "display_data",
          "data": {
            "image/png": "[encoded data removed]",
            "text/plain": [
              "<Figure size 432x288 with 1 Axes>"
            ]
          },
          "metadata": {
            "tags": [],
            "needs_background": "light"
          }
        },
        {
          "output_type": "display_data",
          "data": {
            "image/png": "[encoded data removed]",
            "text/plain": [
              "<Figure size 432x288 with 1 Axes>"
            ]
          },
          "metadata": {
            "tags": [],
            "needs_background": "light"
          }
        }
      ]
    },
    {
      "cell_type": "code",
      "metadata": {
        "id": "YRiLJQBOS80U",
        "outputId": "fef7cf32-ef7a-4c8b-e790-32950db20788",
        "colab": {
          "base_uri": "https://localhost:8080/",
          "height": 430
        }
      },
      "source": [
        "#extreme outliers\n",
        "train.drop(train.query('Quantity<-10000 | Quantity>10000').index, inplace = True)\n",
        "train[\"Quantity\"].plot()\n",
        "train['Quantity'].describe()"
      ],
      "execution_count": 247,
      "outputs": [
        {
          "output_type": "execute_result",
          "data": {
            "text/plain": [
              "count    284775.000000\n",
              "mean         11.984644\n",
              "std          42.260053\n",
              "min       -1930.000000\n",
              "25%           2.000000\n",
              "50%           5.000000\n",
              "75%          12.000000\n",
              "max        4300.000000\n",
              "Name: Quantity, dtype: float64"
            ]
          },
          "metadata": {
            "tags": []
          },
          "execution_count": 247
        },
        {
          "output_type": "display_data",
          "data": {
            "image/png": "[encoded data removed]",
            "text/plain": [
              "<Figure size 432x288 with 1 Axes>"
            ]
          },
          "metadata": {
            "tags": [],
            "needs_background": "light"
          }
        }
      ]
    },
    {
      "cell_type": "code",
      "metadata": {
        "id": "J58HZ4eIBnSe"
      },
      "source": [
        "#train_quantity_lower_range = np.mean(train['Quantity']) - 3*np.std(train['Quantity'])\n",
        "#train_quantity_upper_range = np.mean(train['Quantity']) + 3*np.std(train['Quantity'])\n",
        " \n",
        "#train.query('Quantity>{} | Quantity<{}'.format(train_quantity_upper_range,train_quantity_lower_range))"
      ],
      "execution_count": 248,
      "outputs": []
    },
    {
      "cell_type": "code",
      "metadata": {
        "id": "NCp93NyKDhsy"
      },
      "source": [
        "#test_quantity_lower_range = np.mean(test['Quantity']) - 3*np.std(test['Quantity'])\n",
        "#test_quantity_upper_range = np.mean(test['Quantity']) + 3*np.std(test['Quantity'])\n",
        " \n",
        "#test.query('Quantity>{} | Quantity<{}'.format(test_quantity_upper_range,test_quantity_lower_range))"
      ],
      "execution_count": 249,
      "outputs": []
    },
    {
      "cell_type": "code",
      "metadata": {
        "id": "bm89-tRTCp1A",
        "cellView": "code",
        "outputId": "0e3d3789-4393-43b4-ceda-0b602239156d",
        "colab": {
          "base_uri": "https://localhost:8080/",
          "height": 69
        }
      },
      "source": [
        "'''\n",
        "def update_train_quantity(x):\n",
        "  if (x<train_quantity_lower_range) | (x>train_quantity_upper_range):\n",
        "    return np.mean(train['Quantity'])\n",
        "  else:\n",
        "    return x\n",
        "\n",
        "def update_test_quantity(x):\n",
        "  if (x<test_quantity_lower_range) | (x>test_quantity_upper_range):\n",
        "    return np.mean(train['Quantity'])\n",
        "  else:\n",
        "    return x\n",
        "'''"
      ],
      "execution_count": 250,
      "outputs": [
        {
          "output_type": "execute_result",
          "data": {
            "application/vnd.google.colaboratory.intrinsic+json": {
              "type": "string"
            },
            "text/plain": [
              "\"\\ndef update_train_quantity(x):\\n  if (x<train_quantity_lower_range) | (x>train_quantity_upper_range):\\n    return np.mean(train['Quantity'])\\n  else:\\n    return x\\n\\ndef update_test_quantity(x):\\n  if (x<test_quantity_lower_range) | (x>test_quantity_upper_range):\\n    return np.mean(train['Quantity'])\\n  else:\\n    return x\\n\""
            ]
          },
          "metadata": {
            "tags": []
          },
          "execution_count": 250
        }
      ]
    },
    {
      "cell_type": "code",
      "metadata": {
        "id": "y1qmGe5u7pHT"
      },
      "source": [
        "test['Quantity'] = test['Quantity'].apply(lambda x: np.mean(train['Quantity']) if x<-2000 else x)"
      ],
      "execution_count": 251,
      "outputs": []
    },
    {
      "cell_type": "code",
      "metadata": {
        "id": "nKVPTvEvH8_S",
        "outputId": "498f4fc9-cd95-4eef-984b-6f6220423495",
        "colab": {
          "base_uri": "https://localhost:8080/",
          "height": 765
        }
      },
      "source": [
        "for name,data in zip(names,combined):\n",
        "  plt.figure(figsize = (8,6))\n",
        "  data[\"Quantity\"].plot()\n",
        "  plt.title(\"{} Quantity\".format(name))\n",
        " \n",
        "  plt.show()"
      ],
      "execution_count": 252,
      "outputs": [
        {
          "output_type": "display_data",
          "data": {
            "image/png": "[encoded data removed]",
            "text/plain": [
              "<Figure size 576x432 with 1 Axes>"
            ]
          },
          "metadata": {
            "tags": [],
            "needs_background": "light"
          }
        },
        {
          "output_type": "display_data",
          "data": {
            "image/png": "[encoded data removed]",
            "text/plain": [
              "<Figure size 576x432 with 1 Axes>"
            ]
          },
          "metadata": {
            "tags": [],
            "needs_background": "light"
          }
        }
      ]
    },
    {
      "cell_type": "code",
      "metadata": {
        "id": "0W2eq6-7ZIU7",
        "outputId": "96f04ee6-9aae-4951-864f-551d19bc8cd8",
        "colab": {
          "base_uri": "https://localhost:8080/"
        }
      },
      "source": [
        "test['Quantity'].describe()"
      ],
      "execution_count": 253,
      "outputs": [
        {
          "output_type": "execute_result",
          "data": {
            "text/plain": [
              "count    122049.000000\n",
              "mean         12.240321\n",
              "std          46.367872\n",
              "min       -2000.000000\n",
              "25%           2.000000\n",
              "50%           5.000000\n",
              "75%          12.000000\n",
              "max        4800.000000\n",
              "Name: Quantity, dtype: float64"
            ]
          },
          "metadata": {
            "tags": []
          },
          "execution_count": 253
        }
      ]
    },
    {
      "cell_type": "code",
      "metadata": {
        "id": "TuTdvMTjH-MP",
        "outputId": "0b5ce5c2-6469-42d7-9449-ba1fcc5aa4b5",
        "colab": {
          "base_uri": "https://localhost:8080/",
          "height": 545
        }
      },
      "source": [
        "for name,data in zip(names,combined):\n",
        "  #plt.figure(figsize = (8,6))\n",
        "  plt.hist(data[\"Quantity\"])\n",
        "  plt.title(\"{} Quantity\".format(name))\n",
        " \n",
        "  plt.show()"
      ],
      "execution_count": 254,
      "outputs": [
        {
          "output_type": "display_data",
          "data": {
            "image/png": "[encoded data removed]",
            "text/plain": [
              "<Figure size 432x288 with 1 Axes>"
            ]
          },
          "metadata": {
            "tags": [],
            "needs_background": "light"
          }
        },
        {
          "output_type": "display_data",
          "data": {
            "image/png": "[encoded data removed]",
            "text/plain": [
              "<Figure size 432x288 with 1 Axes>"
            ]
          },
          "metadata": {
            "tags": [],
            "needs_background": "light"
          }
        }
      ]
    },
    {
      "cell_type": "code",
      "metadata": {
        "id": "-mDhAuCyH97w",
        "outputId": "bb3b5241-5b56-4eed-ba2e-a9f9bed5cf6f",
        "colab": {
          "base_uri": "https://localhost:8080/",
          "height": 545
        }
      },
      "source": [
        "for name,data in zip(names,combined):\n",
        "  #plt.figure(figsize = (8,6))\n",
        "  plt.boxplot(data[\"Quantity\"])\n",
        "  plt.title(\"{} Quantity\".format(name))\n",
        " \n",
        "  plt.show()"
      ],
      "execution_count": 255,
      "outputs": [
        {
          "output_type": "display_data",
          "data": {
            "image/png": "[encoded data removed]",
            "text/plain": [
              "<Figure size 432x288 with 1 Axes>"
            ]
          },
          "metadata": {
            "tags": [],
            "needs_background": "light"
          }
        },
        {
          "output_type": "display_data",
          "data": {
            "image/png": "[encoded data removed]",
            "text/plain": [
              "<Figure size 432x288 with 1 Axes>"
            ]
          },
          "metadata": {
            "tags": [],
            "needs_background": "light"
          }
        }
      ]
    },
    {
      "cell_type": "code",
      "metadata": {
        "id": "7c1T6aH4IM0z",
        "outputId": "2152b0aa-9d93-444e-bb18-f7e634c5f422",
        "colab": {
          "base_uri": "https://localhost:8080/",
          "height": 391
        }
      },
      "source": [
        "plt.figure(figsize = (8,6))\n",
        " \n",
        "train[\"UnitPrice\"].plot()\n",
        "plt.title('Train UnitPrice')\n",
        "\n",
        "plt.show()"
      ],
      "execution_count": 256,
      "outputs": [
        {
          "output_type": "display_data",
          "data": {
            "image/png": "[encoded data removed]",
            "text/plain": [
              "<Figure size 576x432 with 1 Axes>"
            ]
          },
          "metadata": {
            "tags": [],
            "needs_background": "light"
          }
        }
      ]
    },
    {
      "cell_type": "code",
      "metadata": {
        "id": "KO_qa1cGawj5",
        "outputId": "e4a9514b-1ab5-4ed9-dbbf-2d28e7dc9717",
        "colab": {
          "base_uri": "https://localhost:8080/",
          "height": 1000
        }
      },
      "source": [
        "train.query('UnitPrice>1000')"
      ],
      "execution_count": 257,
      "outputs": [
        {
          "output_type": "execute_result",
          "data": {
            "text/html": [
              "<div>\n",
              "<style scoped>\n",
              "    .dataframe tbody tr th:only-of-type {\n",
              "        vertical-align: middle;\n",
              "    }\n",
              "\n",
              "    .dataframe tbody tr th {\n",
              "        vertical-align: top;\n",
              "    }\n",
              "\n",
              "    .dataframe thead th {\n",
              "        text-align: right;\n",
              "    }\n",
              "</style>\n",
              "<table border=\"1\" class=\"dataframe\">\n",
              "  <thead>\n",
              "    <tr style=\"text-align: right;\">\n",
              "      <th></th>\n",
              "      <th>InvoiceNo</th>\n",
              "      <th>StockCode</th>\n",
              "      <th>Description</th>\n",
              "      <th>Quantity</th>\n",
              "      <th>UnitPrice</th>\n",
              "      <th>CustomerID</th>\n",
              "      <th>Country</th>\n",
              "      <th>month</th>\n",
              "      <th>day</th>\n",
              "      <th>hour</th>\n",
              "      <th>minute</th>\n",
              "    </tr>\n",
              "    <tr>\n",
              "      <th>InvoiceDate</th>\n",
              "      <th></th>\n",
              "      <th></th>\n",
              "      <th></th>\n",
              "      <th></th>\n",
              "      <th></th>\n",
              "      <th></th>\n",
              "      <th></th>\n",
              "      <th></th>\n",
              "      <th></th>\n",
              "      <th></th>\n",
              "      <th></th>\n",
              "    </tr>\n",
              "  </thead>\n",
              "  <tbody>\n",
              "    <tr>\n",
              "      <th>2011-11-14 15:27:00</th>\n",
              "      <td>16242</td>\n",
              "      <td>3680</td>\n",
              "      <td>1043</td>\n",
              "      <td>1</td>\n",
              "      <td>1500.36</td>\n",
              "      <td>14096.0</td>\n",
              "      <td>35</td>\n",
              "      <td>11</td>\n",
              "      <td>14</td>\n",
              "      <td>15</td>\n",
              "      <td>27</td>\n",
              "    </tr>\n",
              "    <tr>\n",
              "      <th>2011-10-19 11:18:00</th>\n",
              "      <td>14292</td>\n",
              "      <td>3681</td>\n",
              "      <td>2140</td>\n",
              "      <td>1</td>\n",
              "      <td>2118.74</td>\n",
              "      <td>12744.0</td>\n",
              "      <td>29</td>\n",
              "      <td>10</td>\n",
              "      <td>19</td>\n",
              "      <td>11</td>\n",
              "      <td>18</td>\n",
              "    </tr>\n",
              "    <tr>\n",
              "      <th>2011-10-27 14:13:00</th>\n",
              "      <td>14824</td>\n",
              "      <td>3681</td>\n",
              "      <td>2140</td>\n",
              "      <td>1</td>\n",
              "      <td>4161.06</td>\n",
              "      <td>12536.0</td>\n",
              "      <td>13</td>\n",
              "      <td>10</td>\n",
              "      <td>27</td>\n",
              "      <td>14</td>\n",
              "      <td>13</td>\n",
              "    </tr>\n",
              "    <tr>\n",
              "      <th>2011-11-23 13:39:00</th>\n",
              "      <td>17128</td>\n",
              "      <td>3680</td>\n",
              "      <td>1043</td>\n",
              "      <td>1</td>\n",
              "      <td>1270.06</td>\n",
              "      <td>14096.0</td>\n",
              "      <td>35</td>\n",
              "      <td>11</td>\n",
              "      <td>23</td>\n",
              "      <td>13</td>\n",
              "      <td>39</td>\n",
              "    </tr>\n",
              "    <tr>\n",
              "      <th>2011-04-04 13:03:00</th>\n",
              "      <td>4823</td>\n",
              "      <td>3681</td>\n",
              "      <td>2140</td>\n",
              "      <td>1</td>\n",
              "      <td>2382.92</td>\n",
              "      <td>12744.0</td>\n",
              "      <td>29</td>\n",
              "      <td>4</td>\n",
              "      <td>4</td>\n",
              "      <td>13</td>\n",
              "      <td>3</td>\n",
              "    </tr>\n",
              "    <tr>\n",
              "      <th>2011-03-11 10:22:00</th>\n",
              "      <td>3816</td>\n",
              "      <td>3681</td>\n",
              "      <td>2140</td>\n",
              "      <td>1</td>\n",
              "      <td>1687.17</td>\n",
              "      <td>14911.0</td>\n",
              "      <td>10</td>\n",
              "      <td>3</td>\n",
              "      <td>11</td>\n",
              "      <td>10</td>\n",
              "      <td>22</td>\n",
              "    </tr>\n",
              "    <tr>\n",
              "      <th>2011-04-08 14:17:00</th>\n",
              "      <td>19659</td>\n",
              "      <td>3679</td>\n",
              "      <td>1066</td>\n",
              "      <td>-1</td>\n",
              "      <td>1867.86</td>\n",
              "      <td>17940.0</td>\n",
              "      <td>35</td>\n",
              "      <td>4</td>\n",
              "      <td>8</td>\n",
              "      <td>14</td>\n",
              "      <td>17</td>\n",
              "    </tr>\n",
              "    <tr>\n",
              "      <th>2011-03-11 10:19:00</th>\n",
              "      <td>3815</td>\n",
              "      <td>3681</td>\n",
              "      <td>2140</td>\n",
              "      <td>1</td>\n",
              "      <td>1687.17</td>\n",
              "      <td>14911.0</td>\n",
              "      <td>10</td>\n",
              "      <td>3</td>\n",
              "      <td>11</td>\n",
              "      <td>10</td>\n",
              "      <td>19</td>\n",
              "    </tr>\n",
              "    <tr>\n",
              "      <th>2011-04-04 13:08:00</th>\n",
              "      <td>19618</td>\n",
              "      <td>3681</td>\n",
              "      <td>2140</td>\n",
              "      <td>-1</td>\n",
              "      <td>2382.92</td>\n",
              "      <td>12744.0</td>\n",
              "      <td>29</td>\n",
              "      <td>4</td>\n",
              "      <td>4</td>\n",
              "      <td>13</td>\n",
              "      <td>8</td>\n",
              "    </tr>\n",
              "    <tr>\n",
              "      <th>2011-04-04 13:08:00</th>\n",
              "      <td>19618</td>\n",
              "      <td>3681</td>\n",
              "      <td>2140</td>\n",
              "      <td>-1</td>\n",
              "      <td>1252.95</td>\n",
              "      <td>12744.0</td>\n",
              "      <td>29</td>\n",
              "      <td>4</td>\n",
              "      <td>4</td>\n",
              "      <td>13</td>\n",
              "      <td>8</td>\n",
              "    </tr>\n",
              "    <tr>\n",
              "      <th>2011-04-04 13:03:00</th>\n",
              "      <td>4823</td>\n",
              "      <td>3681</td>\n",
              "      <td>2140</td>\n",
              "      <td>1</td>\n",
              "      <td>1252.95</td>\n",
              "      <td>12744.0</td>\n",
              "      <td>29</td>\n",
              "      <td>4</td>\n",
              "      <td>4</td>\n",
              "      <td>13</td>\n",
              "      <td>3</td>\n",
              "    </tr>\n",
              "    <tr>\n",
              "      <th>2011-10-27 14:15:00</th>\n",
              "      <td>21589</td>\n",
              "      <td>3681</td>\n",
              "      <td>2140</td>\n",
              "      <td>-2</td>\n",
              "      <td>4161.06</td>\n",
              "      <td>12536.0</td>\n",
              "      <td>13</td>\n",
              "      <td>10</td>\n",
              "      <td>27</td>\n",
              "      <td>14</td>\n",
              "      <td>15</td>\n",
              "    </tr>\n",
              "    <tr>\n",
              "      <th>2011-08-08 12:56:00</th>\n",
              "      <td>20755</td>\n",
              "      <td>3681</td>\n",
              "      <td>2140</td>\n",
              "      <td>-1</td>\n",
              "      <td>3155.95</td>\n",
              "      <td>15502.0</td>\n",
              "      <td>35</td>\n",
              "      <td>8</td>\n",
              "      <td>8</td>\n",
              "      <td>12</td>\n",
              "      <td>56</td>\n",
              "    </tr>\n",
              "    <tr>\n",
              "      <th>2011-12-05 17:17:00</th>\n",
              "      <td>18165</td>\n",
              "      <td>3680</td>\n",
              "      <td>1043</td>\n",
              "      <td>1</td>\n",
              "      <td>1599.26</td>\n",
              "      <td>14096.0</td>\n",
              "      <td>35</td>\n",
              "      <td>12</td>\n",
              "      <td>5</td>\n",
              "      <td>17</td>\n",
              "      <td>17</td>\n",
              "    </tr>\n",
              "    <tr>\n",
              "      <th>2011-01-27 12:09:00</th>\n",
              "      <td>19047</td>\n",
              "      <td>3681</td>\n",
              "      <td>2140</td>\n",
              "      <td>-1</td>\n",
              "      <td>1715.85</td>\n",
              "      <td>12539.0</td>\n",
              "      <td>30</td>\n",
              "      <td>1</td>\n",
              "      <td>27</td>\n",
              "      <td>12</td>\n",
              "      <td>9</td>\n",
              "    </tr>\n",
              "    <tr>\n",
              "      <th>2011-06-10 15:31:00</th>\n",
              "      <td>20237</td>\n",
              "      <td>3681</td>\n",
              "      <td>2140</td>\n",
              "      <td>-1</td>\n",
              "      <td>38970.00</td>\n",
              "      <td>15098.0</td>\n",
              "      <td>35</td>\n",
              "      <td>6</td>\n",
              "      <td>10</td>\n",
              "      <td>15</td>\n",
              "      <td>31</td>\n",
              "    </tr>\n",
              "    <tr>\n",
              "      <th>2011-10-19 11:16:00</th>\n",
              "      <td>21489</td>\n",
              "      <td>3681</td>\n",
              "      <td>2140</td>\n",
              "      <td>-1</td>\n",
              "      <td>2118.74</td>\n",
              "      <td>12744.0</td>\n",
              "      <td>29</td>\n",
              "      <td>10</td>\n",
              "      <td>19</td>\n",
              "      <td>11</td>\n",
              "      <td>16</td>\n",
              "    </tr>\n",
              "    <tr>\n",
              "      <th>2011-12-05 17:17:00</th>\n",
              "      <td>22120</td>\n",
              "      <td>3678</td>\n",
              "      <td>882</td>\n",
              "      <td>-1</td>\n",
              "      <td>1100.44</td>\n",
              "      <td>14096.0</td>\n",
              "      <td>35</td>\n",
              "      <td>12</td>\n",
              "      <td>5</td>\n",
              "      <td>17</td>\n",
              "      <td>17</td>\n",
              "    </tr>\n",
              "    <tr>\n",
              "      <th>2011-11-28 15:54:00</th>\n",
              "      <td>17524</td>\n",
              "      <td>3680</td>\n",
              "      <td>1043</td>\n",
              "      <td>1</td>\n",
              "      <td>1526.76</td>\n",
              "      <td>14096.0</td>\n",
              "      <td>35</td>\n",
              "      <td>11</td>\n",
              "      <td>28</td>\n",
              "      <td>15</td>\n",
              "      <td>54</td>\n",
              "    </tr>\n",
              "    <tr>\n",
              "      <th>2011-07-18 15:11:00</th>\n",
              "      <td>20577</td>\n",
              "      <td>3681</td>\n",
              "      <td>2140</td>\n",
              "      <td>-1</td>\n",
              "      <td>1592.49</td>\n",
              "      <td>15369.0</td>\n",
              "      <td>35</td>\n",
              "      <td>7</td>\n",
              "      <td>18</td>\n",
              "      <td>15</td>\n",
              "      <td>11</td>\n",
              "    </tr>\n",
              "    <tr>\n",
              "      <th>2011-07-20 11:31:00</th>\n",
              "      <td>20601</td>\n",
              "      <td>3681</td>\n",
              "      <td>2140</td>\n",
              "      <td>-1</td>\n",
              "      <td>3060.60</td>\n",
              "      <td>18102.0</td>\n",
              "      <td>35</td>\n",
              "      <td>7</td>\n",
              "      <td>20</td>\n",
              "      <td>11</td>\n",
              "      <td>31</td>\n",
              "    </tr>\n",
              "    <tr>\n",
              "      <th>2011-10-19 11:16:00</th>\n",
              "      <td>21489</td>\n",
              "      <td>3681</td>\n",
              "      <td>2140</td>\n",
              "      <td>-1</td>\n",
              "      <td>3949.32</td>\n",
              "      <td>12744.0</td>\n",
              "      <td>29</td>\n",
              "      <td>10</td>\n",
              "      <td>19</td>\n",
              "      <td>11</td>\n",
              "      <td>16</td>\n",
              "    </tr>\n",
              "    <tr>\n",
              "      <th>2011-05-23 14:46:00</th>\n",
              "      <td>7083</td>\n",
              "      <td>3681</td>\n",
              "      <td>2140</td>\n",
              "      <td>1</td>\n",
              "      <td>1241.98</td>\n",
              "      <td>12757.0</td>\n",
              "      <td>26</td>\n",
              "      <td>5</td>\n",
              "      <td>23</td>\n",
              "      <td>14</td>\n",
              "      <td>46</td>\n",
              "    </tr>\n",
              "    <tr>\n",
              "      <th>2011-05-23 14:50:00</th>\n",
              "      <td>20034</td>\n",
              "      <td>3681</td>\n",
              "      <td>2140</td>\n",
              "      <td>-1</td>\n",
              "      <td>1241.98</td>\n",
              "      <td>12757.0</td>\n",
              "      <td>26</td>\n",
              "      <td>5</td>\n",
              "      <td>23</td>\n",
              "      <td>14</td>\n",
              "      <td>50</td>\n",
              "    </tr>\n",
              "    <tr>\n",
              "      <th>2011-11-14 15:27:00</th>\n",
              "      <td>21832</td>\n",
              "      <td>3678</td>\n",
              "      <td>882</td>\n",
              "      <td>-1</td>\n",
              "      <td>1038.75</td>\n",
              "      <td>14096.0</td>\n",
              "      <td>35</td>\n",
              "      <td>11</td>\n",
              "      <td>14</td>\n",
              "      <td>15</td>\n",
              "      <td>27</td>\n",
              "    </tr>\n",
              "    <tr>\n",
              "      <th>2011-01-06 11:51:00</th>\n",
              "      <td>18866</td>\n",
              "      <td>3681</td>\n",
              "      <td>2140</td>\n",
              "      <td>-1</td>\n",
              "      <td>1126.00</td>\n",
              "      <td>12503.0</td>\n",
              "      <td>30</td>\n",
              "      <td>1</td>\n",
              "      <td>6</td>\n",
              "      <td>11</td>\n",
              "      <td>51</td>\n",
              "    </tr>\n",
              "    <tr>\n",
              "      <th>2011-04-05 09:45:00</th>\n",
              "      <td>4852</td>\n",
              "      <td>3681</td>\n",
              "      <td>2140</td>\n",
              "      <td>1</td>\n",
              "      <td>1136.30</td>\n",
              "      <td>12669.0</td>\n",
              "      <td>13</td>\n",
              "      <td>4</td>\n",
              "      <td>5</td>\n",
              "      <td>9</td>\n",
              "      <td>45</td>\n",
              "    </tr>\n",
              "    <tr>\n",
              "      <th>2011-05-03 12:51:00</th>\n",
              "      <td>19848</td>\n",
              "      <td>3683</td>\n",
              "      <td>2624</td>\n",
              "      <td>-1</td>\n",
              "      <td>8142.75</td>\n",
              "      <td>16029.0</td>\n",
              "      <td>35</td>\n",
              "      <td>5</td>\n",
              "      <td>3</td>\n",
              "      <td>12</td>\n",
              "      <td>51</td>\n",
              "    </tr>\n",
              "    <tr>\n",
              "      <th>2011-05-23 11:24:00</th>\n",
              "      <td>20027</td>\n",
              "      <td>3681</td>\n",
              "      <td>2140</td>\n",
              "      <td>-1</td>\n",
              "      <td>1241.98</td>\n",
              "      <td>12757.0</td>\n",
              "      <td>26</td>\n",
              "      <td>5</td>\n",
              "      <td>23</td>\n",
              "      <td>11</td>\n",
              "      <td>24</td>\n",
              "    </tr>\n",
              "    <tr>\n",
              "      <th>2011-10-27 14:20:00</th>\n",
              "      <td>14826</td>\n",
              "      <td>3681</td>\n",
              "      <td>2140</td>\n",
              "      <td>1</td>\n",
              "      <td>4161.06</td>\n",
              "      <td>12536.0</td>\n",
              "      <td>13</td>\n",
              "      <td>10</td>\n",
              "      <td>27</td>\n",
              "      <td>14</td>\n",
              "      <td>20</td>\n",
              "    </tr>\n",
              "  </tbody>\n",
              "</table>\n",
              "</div>"
            ],
            "text/plain": [
              "                     InvoiceNo  StockCode  Description  ...  day  hour  minute\n",
              "InvoiceDate                                             ...                   \n",
              "2011-11-14 15:27:00      16242       3680         1043  ...   14    15      27\n",
              "2011-10-19 11:18:00      14292       3681         2140  ...   19    11      18\n",
              "2011-10-27 14:13:00      14824       3681         2140  ...   27    14      13\n",
              "2011-11-23 13:39:00      17128       3680         1043  ...   23    13      39\n",
              "2011-04-04 13:03:00       4823       3681         2140  ...    4    13       3\n",
              "2011-03-11 10:22:00       3816       3681         2140  ...   11    10      22\n",
              "2011-04-08 14:17:00      19659       3679         1066  ...    8    14      17\n",
              "2011-03-11 10:19:00       3815       3681         2140  ...   11    10      19\n",
              "2011-04-04 13:08:00      19618       3681         2140  ...    4    13       8\n",
              "2011-04-04 13:08:00      19618       3681         2140  ...    4    13       8\n",
              "2011-04-04 13:03:00       4823       3681         2140  ...    4    13       3\n",
              "2011-10-27 14:15:00      21589       3681         2140  ...   27    14      15\n",
              "2011-08-08 12:56:00      20755       3681         2140  ...    8    12      56\n",
              "2011-12-05 17:17:00      18165       3680         1043  ...    5    17      17\n",
              "2011-01-27 12:09:00      19047       3681         2140  ...   27    12       9\n",
              "2011-06-10 15:31:00      20237       3681         2140  ...   10    15      31\n",
              "2011-10-19 11:16:00      21489       3681         2140  ...   19    11      16\n",
              "2011-12-05 17:17:00      22120       3678          882  ...    5    17      17\n",
              "2011-11-28 15:54:00      17524       3680         1043  ...   28    15      54\n",
              "2011-07-18 15:11:00      20577       3681         2140  ...   18    15      11\n",
              "2011-07-20 11:31:00      20601       3681         2140  ...   20    11      31\n",
              "2011-10-19 11:16:00      21489       3681         2140  ...   19    11      16\n",
              "2011-05-23 14:46:00       7083       3681         2140  ...   23    14      46\n",
              "2011-05-23 14:50:00      20034       3681         2140  ...   23    14      50\n",
              "2011-11-14 15:27:00      21832       3678          882  ...   14    15      27\n",
              "2011-01-06 11:51:00      18866       3681         2140  ...    6    11      51\n",
              "2011-04-05 09:45:00       4852       3681         2140  ...    5     9      45\n",
              "2011-05-03 12:51:00      19848       3683         2624  ...    3    12      51\n",
              "2011-05-23 11:24:00      20027       3681         2140  ...   23    11      24\n",
              "2011-10-27 14:20:00      14826       3681         2140  ...   27    14      20\n",
              "\n",
              "[30 rows x 11 columns]"
            ]
          },
          "metadata": {
            "tags": []
          },
          "execution_count": 257
        }
      ]
    },
    {
      "cell_type": "code",
      "metadata": {
        "id": "YeqpeoPAIMt-"
      },
      "source": [
        "train.drop(train.query('UnitPrice>500').index, inplace = True)"
      ],
      "execution_count": 258,
      "outputs": []
    },
    {
      "cell_type": "code",
      "metadata": {
        "id": "d0do4rOq7a5t",
        "outputId": "76dacf83-8d8c-4b95-a9a6-8728cac3b27e",
        "colab": {
          "base_uri": "https://localhost:8080/",
          "height": 391
        }
      },
      "source": [
        "plt.figure(figsize = (8,6))\n",
        " \n",
        "train[\"UnitPrice\"].plot()\n",
        "plt.title(\"Train UnitPrice\")\n",
        " \n",
        "plt.show()"
      ],
      "execution_count": 259,
      "outputs": [
        {
          "output_type": "display_data",
          "data": {
            "image/png": "[encoded data removed]",
            "text/plain": [
              "<Figure size 576x432 with 1 Axes>"
            ]
          },
          "metadata": {
            "tags": [],
            "needs_background": "light"
          }
        }
      ]
    },
    {
      "cell_type": "code",
      "metadata": {
        "id": "oT2iBEn-VQlk",
        "outputId": "a6e3680e-0474-4ba1-d185-f2ae4a9a421e",
        "colab": {
          "base_uri": "https://localhost:8080/",
          "height": 317
        }
      },
      "source": [
        "train.describe()"
      ],
      "execution_count": 260,
      "outputs": [
        {
          "output_type": "execute_result",
          "data": {
            "text/html": [
              "<div>\n",
              "<style scoped>\n",
              "    .dataframe tbody tr th:only-of-type {\n",
              "        vertical-align: middle;\n",
              "    }\n",
              "\n",
              "    .dataframe tbody tr th {\n",
              "        vertical-align: top;\n",
              "    }\n",
              "\n",
              "    .dataframe thead th {\n",
              "        text-align: right;\n",
              "    }\n",
              "</style>\n",
              "<table border=\"1\" class=\"dataframe\">\n",
              "  <thead>\n",
              "    <tr style=\"text-align: right;\">\n",
              "      <th></th>\n",
              "      <th>InvoiceNo</th>\n",
              "      <th>StockCode</th>\n",
              "      <th>Description</th>\n",
              "      <th>Quantity</th>\n",
              "      <th>UnitPrice</th>\n",
              "      <th>CustomerID</th>\n",
              "      <th>Country</th>\n",
              "      <th>month</th>\n",
              "      <th>day</th>\n",
              "      <th>hour</th>\n",
              "      <th>minute</th>\n",
              "    </tr>\n",
              "  </thead>\n",
              "  <tbody>\n",
              "    <tr>\n",
              "      <th>count</th>\n",
              "      <td>281646.000000</td>\n",
              "      <td>281646.000000</td>\n",
              "      <td>281646.000000</td>\n",
              "      <td>281646.000000</td>\n",
              "      <td>281646.000000</td>\n",
              "      <td>281646.000000</td>\n",
              "      <td>281646.000000</td>\n",
              "      <td>281646.000000</td>\n",
              "      <td>281646.000000</td>\n",
              "      <td>281646.000000</td>\n",
              "      <td>281646.000000</td>\n",
              "    </tr>\n",
              "    <tr>\n",
              "      <th>mean</th>\n",
              "      <td>9890.131399</td>\n",
              "      <td>1573.279251</td>\n",
              "      <td>2024.099966</td>\n",
              "      <td>12.080644</td>\n",
              "      <td>3.004050</td>\n",
              "      <td>15301.440933</td>\n",
              "      <td>32.800942</td>\n",
              "      <td>7.580693</td>\n",
              "      <td>14.989558</td>\n",
              "      <td>12.715441</td>\n",
              "      <td>30.446372</td>\n",
              "    </tr>\n",
              "    <tr>\n",
              "      <th>std</th>\n",
              "      <td>5544.043434</td>\n",
              "      <td>843.008604</td>\n",
              "      <td>1089.730555</td>\n",
              "      <td>42.479457</td>\n",
              "      <td>5.775049</td>\n",
              "      <td>1718.856459</td>\n",
              "      <td>6.775855</td>\n",
              "      <td>3.419141</td>\n",
              "      <td>8.644575</td>\n",
              "      <td>2.284535</td>\n",
              "      <td>17.095034</td>\n",
              "    </tr>\n",
              "    <tr>\n",
              "      <th>min</th>\n",
              "      <td>0.000000</td>\n",
              "      <td>0.000000</td>\n",
              "      <td>0.000000</td>\n",
              "      <td>-1930.000000</td>\n",
              "      <td>0.000000</td>\n",
              "      <td>12347.000000</td>\n",
              "      <td>0.000000</td>\n",
              "      <td>1.000000</td>\n",
              "      <td>1.000000</td>\n",
              "      <td>6.000000</td>\n",
              "      <td>0.000000</td>\n",
              "    </tr>\n",
              "    <tr>\n",
              "      <th>25%</th>\n",
              "      <td>5009.000000</td>\n",
              "      <td>942.000000</td>\n",
              "      <td>1143.000000</td>\n",
              "      <td>2.000000</td>\n",
              "      <td>1.250000</td>\n",
              "      <td>13919.000000</td>\n",
              "      <td>35.000000</td>\n",
              "      <td>5.000000</td>\n",
              "      <td>7.000000</td>\n",
              "      <td>11.000000</td>\n",
              "      <td>16.000000</td>\n",
              "    </tr>\n",
              "    <tr>\n",
              "      <th>50%</th>\n",
              "      <td>10202.000000</td>\n",
              "      <td>1522.000000</td>\n",
              "      <td>1986.000000</td>\n",
              "      <td>5.000000</td>\n",
              "      <td>1.950000</td>\n",
              "      <td>15192.000000</td>\n",
              "      <td>35.000000</td>\n",
              "      <td>8.000000</td>\n",
              "      <td>15.000000</td>\n",
              "      <td>13.000000</td>\n",
              "      <td>31.000000</td>\n",
              "    </tr>\n",
              "    <tr>\n",
              "      <th>75%</th>\n",
              "      <td>14590.750000</td>\n",
              "      <td>2106.000000</td>\n",
              "      <td>2945.000000</td>\n",
              "      <td>12.000000</td>\n",
              "      <td>3.750000</td>\n",
              "      <td>16810.000000</td>\n",
              "      <td>35.000000</td>\n",
              "      <td>11.000000</td>\n",
              "      <td>22.000000</td>\n",
              "      <td>14.000000</td>\n",
              "      <td>45.000000</td>\n",
              "    </tr>\n",
              "    <tr>\n",
              "      <th>max</th>\n",
              "      <td>22188.000000</td>\n",
              "      <td>3683.000000</td>\n",
              "      <td>3895.000000</td>\n",
              "      <td>4300.000000</td>\n",
              "      <td>490.250000</td>\n",
              "      <td>18287.000000</td>\n",
              "      <td>36.000000</td>\n",
              "      <td>12.000000</td>\n",
              "      <td>31.000000</td>\n",
              "      <td>20.000000</td>\n",
              "      <td>59.000000</td>\n",
              "    </tr>\n",
              "  </tbody>\n",
              "</table>\n",
              "</div>"
            ],
            "text/plain": [
              "           InvoiceNo      StockCode  ...           hour         minute\n",
              "count  281646.000000  281646.000000  ...  281646.000000  281646.000000\n",
              "mean     9890.131399    1573.279251  ...      12.715441      30.446372\n",
              "std      5544.043434     843.008604  ...       2.284535      17.095034\n",
              "min         0.000000       0.000000  ...       6.000000       0.000000\n",
              "25%      5009.000000     942.000000  ...      11.000000      16.000000\n",
              "50%     10202.000000    1522.000000  ...      13.000000      31.000000\n",
              "75%     14590.750000    2106.000000  ...      14.000000      45.000000\n",
              "max     22188.000000    3683.000000  ...      20.000000      59.000000\n",
              "\n",
              "[8 rows x 11 columns]"
            ]
          },
          "metadata": {
            "tags": []
          },
          "execution_count": 260
        }
      ]
    },
    {
      "cell_type": "code",
      "metadata": {
        "id": "S1xPl4kIK2dL",
        "outputId": "469386d1-0197-4efb-d7c0-6c2da2d2d228",
        "colab": {
          "base_uri": "https://localhost:8080/",
          "height": 317
        }
      },
      "source": [
        "test.describe()"
      ],
      "execution_count": 261,
      "outputs": [
        {
          "output_type": "execute_result",
          "data": {
            "text/html": [
              "<div>\n",
              "<style scoped>\n",
              "    .dataframe tbody tr th:only-of-type {\n",
              "        vertical-align: middle;\n",
              "    }\n",
              "\n",
              "    .dataframe tbody tr th {\n",
              "        vertical-align: top;\n",
              "    }\n",
              "\n",
              "    .dataframe thead th {\n",
              "        text-align: right;\n",
              "    }\n",
              "</style>\n",
              "<table border=\"1\" class=\"dataframe\">\n",
              "  <thead>\n",
              "    <tr style=\"text-align: right;\">\n",
              "      <th></th>\n",
              "      <th>InvoiceNo</th>\n",
              "      <th>StockCode</th>\n",
              "      <th>Description</th>\n",
              "      <th>Quantity</th>\n",
              "      <th>CustomerID</th>\n",
              "      <th>Country</th>\n",
              "      <th>month</th>\n",
              "      <th>day</th>\n",
              "      <th>hour</th>\n",
              "      <th>minute</th>\n",
              "    </tr>\n",
              "  </thead>\n",
              "  <tbody>\n",
              "    <tr>\n",
              "      <th>count</th>\n",
              "      <td>122049.000000</td>\n",
              "      <td>122049.000000</td>\n",
              "      <td>122049.000000</td>\n",
              "      <td>122049.000000</td>\n",
              "      <td>122049.000000</td>\n",
              "      <td>122049.000000</td>\n",
              "      <td>122049.000000</td>\n",
              "      <td>122049.000000</td>\n",
              "      <td>122049.000000</td>\n",
              "      <td>122049.000000</td>\n",
              "    </tr>\n",
              "    <tr>\n",
              "      <th>mean</th>\n",
              "      <td>9940.419692</td>\n",
              "      <td>1572.955788</td>\n",
              "      <td>2026.412744</td>\n",
              "      <td>12.240321</td>\n",
              "      <td>15286.445256</td>\n",
              "      <td>32.836795</td>\n",
              "      <td>7.589673</td>\n",
              "      <td>15.049685</td>\n",
              "      <td>12.736090</td>\n",
              "      <td>30.373063</td>\n",
              "    </tr>\n",
              "    <tr>\n",
              "      <th>std</th>\n",
              "      <td>5554.116349</td>\n",
              "      <td>845.106082</td>\n",
              "      <td>1087.697388</td>\n",
              "      <td>46.367872</td>\n",
              "      <td>1711.887591</td>\n",
              "      <td>6.726816</td>\n",
              "      <td>3.426258</td>\n",
              "      <td>8.657520</td>\n",
              "      <td>2.275754</td>\n",
              "      <td>17.112054</td>\n",
              "    </tr>\n",
              "    <tr>\n",
              "      <th>min</th>\n",
              "      <td>0.000000</td>\n",
              "      <td>0.000000</td>\n",
              "      <td>0.000000</td>\n",
              "      <td>-2000.000000</td>\n",
              "      <td>12347.000000</td>\n",
              "      <td>0.000000</td>\n",
              "      <td>1.000000</td>\n",
              "      <td>1.000000</td>\n",
              "      <td>6.000000</td>\n",
              "      <td>0.000000</td>\n",
              "    </tr>\n",
              "    <tr>\n",
              "      <th>25%</th>\n",
              "      <td>5018.000000</td>\n",
              "      <td>937.000000</td>\n",
              "      <td>1147.000000</td>\n",
              "      <td>2.000000</td>\n",
              "      <td>13953.000000</td>\n",
              "      <td>35.000000</td>\n",
              "      <td>5.000000</td>\n",
              "      <td>7.000000</td>\n",
              "      <td>11.000000</td>\n",
              "      <td>16.000000</td>\n",
              "    </tr>\n",
              "    <tr>\n",
              "      <th>50%</th>\n",
              "      <td>10311.000000</td>\n",
              "      <td>1523.000000</td>\n",
              "      <td>1987.000000</td>\n",
              "      <td>5.000000</td>\n",
              "      <td>15152.000000</td>\n",
              "      <td>35.000000</td>\n",
              "      <td>8.000000</td>\n",
              "      <td>15.000000</td>\n",
              "      <td>13.000000</td>\n",
              "      <td>31.000000</td>\n",
              "    </tr>\n",
              "    <tr>\n",
              "      <th>75%</th>\n",
              "      <td>14635.000000</td>\n",
              "      <td>2106.000000</td>\n",
              "      <td>2945.000000</td>\n",
              "      <td>12.000000</td>\n",
              "      <td>16782.000000</td>\n",
              "      <td>35.000000</td>\n",
              "      <td>11.000000</td>\n",
              "      <td>22.000000</td>\n",
              "      <td>14.000000</td>\n",
              "      <td>45.000000</td>\n",
              "    </tr>\n",
              "    <tr>\n",
              "      <th>max</th>\n",
              "      <td>22189.000000</td>\n",
              "      <td>3683.000000</td>\n",
              "      <td>3895.000000</td>\n",
              "      <td>4800.000000</td>\n",
              "      <td>18287.000000</td>\n",
              "      <td>36.000000</td>\n",
              "      <td>12.000000</td>\n",
              "      <td>31.000000</td>\n",
              "      <td>20.000000</td>\n",
              "      <td>59.000000</td>\n",
              "    </tr>\n",
              "  </tbody>\n",
              "</table>\n",
              "</div>"
            ],
            "text/plain": [
              "           InvoiceNo      StockCode  ...           hour         minute\n",
              "count  122049.000000  122049.000000  ...  122049.000000  122049.000000\n",
              "mean     9940.419692    1572.955788  ...      12.736090      30.373063\n",
              "std      5554.116349     845.106082  ...       2.275754      17.112054\n",
              "min         0.000000       0.000000  ...       6.000000       0.000000\n",
              "25%      5018.000000     937.000000  ...      11.000000      16.000000\n",
              "50%     10311.000000    1523.000000  ...      13.000000      31.000000\n",
              "75%     14635.000000    2106.000000  ...      14.000000      45.000000\n",
              "max     22189.000000    3683.000000  ...      20.000000      59.000000\n",
              "\n",
              "[8 rows x 10 columns]"
            ]
          },
          "metadata": {
            "tags": []
          },
          "execution_count": 261
        }
      ]
    },
    {
      "cell_type": "code",
      "metadata": {
        "id": "b1CtSfGRdh3H",
        "outputId": "950b9d5e-dcce-4f57-cc7f-ff769c344171",
        "colab": {
          "base_uri": "https://localhost:8080/"
        }
      },
      "source": [
        "for df in combined:\n",
        "  df.reset_index(inplace= True)\n",
        "  print(df.head())"
      ],
      "execution_count": 263,
      "outputs": [
        {
          "output_type": "stream",
          "text": [
            "          InvoiceDate  InvoiceNo  StockCode  ...  day  hour  minute\n",
            "0 2011-05-06 16:54:00       6141       1583  ...    6    16      54\n",
            "1 2011-05-11 07:35:00       6349       1300  ...   11     7      35\n",
            "2 2011-11-20 13:20:00      16783       2178  ...   20    13      20\n",
            "3 2011-11-22 12:07:00      16971       2115  ...   22    12       7\n",
            "4 2011-05-06 09:00:00       6080       1210  ...    6     9       0\n",
            "\n",
            "[5 rows x 12 columns]\n",
            "          InvoiceDate  InvoiceNo  StockCode  ...  day  hour  minute\n",
            "0 2011-02-22 15:22:00       3139       1709  ...   22    15      22\n",
            "1 2010-12-08 12:46:00        617        510  ...    8    12      46\n",
            "2 2011-10-25 13:53:00      14653        604  ...   25    13      53\n",
            "3 2011-06-27 12:38:00       8634       1478  ...   27    12      38\n",
            "4 2011-11-06 16:14:00      15546       3216  ...    6    16      14\n",
            "\n",
            "[5 rows x 11 columns]\n"
          ],
          "name": "stdout"
        }
      ]
    },
    {
      "cell_type": "code",
      "metadata": {
        "id": "ldHUvvpdhH34"
      },
      "source": [
        "train.drop('InvoiceDate', axis=1, inplace = True)\n",
        "test.drop('InvoiceDate', axis=1, inplace = True)"
      ],
      "execution_count": 275,
      "outputs": []
    },
    {
      "cell_type": "code",
      "metadata": {
        "id": "ryV-d-wKrPZj"
      },
      "source": [
        "train.drop_duplicates(inplace= True)"
      ],
      "execution_count": 354,
      "outputs": []
    },
    {
      "cell_type": "code",
      "metadata": {
        "id": "FuLTHoXScLO0",
        "outputId": "b417cb37-9214-49b1-c75f-0b7031dcbf48",
        "colab": {
          "base_uri": "https://localhost:8080/"
        }
      },
      "source": [
        "X_train, X_test, y_train, y_test = train_test_split(train.drop('UnitPrice', axis=1), \n",
        "                                                    train['UnitPrice'], test_size = .25, random_state = 0)\n",
        "print(X_train.shape)\n",
        "print(X_test.shape)\n",
        "print(y_train.shape)\n",
        "print(y_test.shape)"
      ],
      "execution_count": 359,
      "outputs": [
        {
          "output_type": "stream",
          "text": [
            "(209268, 10)\n",
            "(69757, 10)\n",
            "(209268,)\n",
            "(69757,)\n"
          ],
          "name": "stdout"
        }
      ]
    },
    {
      "cell_type": "code",
      "metadata": {
        "id": "ptqRd9s9cLT9"
      },
      "source": [
        "scaler = StandardScaler()\n",
        "feature_scale = scaler.fit(X_train)\n",
        "\n",
        "scaled_X_train = feature_scale.transform(X_train)\n",
        "scaled_X_test = feature_scale.transform(X_test)"
      ],
      "execution_count": 360,
      "outputs": []
    },
    {
      "cell_type": "code",
      "metadata": {
        "id": "DV8x6Dm2cLVx",
        "outputId": "a8879343-9546-4402-de24-517c6a609a1a",
        "colab": {
          "base_uri": "https://localhost:8080/"
        }
      },
      "source": [
        "dt = DecisionTreeRegressor()\n",
        "dt.fit(scaled_X_train, y_train)"
      ],
      "execution_count": 361,
      "outputs": [
        {
          "output_type": "execute_result",
          "data": {
            "text/plain": [
              "DecisionTreeRegressor(ccp_alpha=0.0, criterion='mse', max_depth=None,\n",
              "                      max_features=None, max_leaf_nodes=None,\n",
              "                      min_impurity_decrease=0.0, min_impurity_split=None,\n",
              "                      min_samples_leaf=1, min_samples_split=2,\n",
              "                      min_weight_fraction_leaf=0.0, presort='deprecated',\n",
              "                      random_state=None, splitter='best')"
            ]
          },
          "metadata": {
            "tags": []
          },
          "execution_count": 361
        }
      ]
    },
    {
      "cell_type": "code",
      "metadata": {
        "id": "Fs4mpBpncLZN",
        "outputId": "d235d6b2-489e-4213-d2c7-fed65805145f",
        "colab": {
          "base_uri": "https://localhost:8080/"
        }
      },
      "source": [
        "dt.score(scaled_X_train, y_train)"
      ],
      "execution_count": 362,
      "outputs": [
        {
          "output_type": "execute_result",
          "data": {
            "text/plain": [
              "0.9980626363663119"
            ]
          },
          "metadata": {
            "tags": []
          },
          "execution_count": 362
        }
      ]
    },
    {
      "cell_type": "code",
      "metadata": {
        "id": "K751ABb8js8f",
        "outputId": "e3009096-976a-4cbd-a9f9-7703b532992b",
        "colab": {
          "base_uri": "https://localhost:8080/"
        }
      },
      "source": [
        "MSE(y_train, dt.predict(scaled_X_train))**.5"
      ],
      "execution_count": 364,
      "outputs": [
        {
          "output_type": "execute_result",
          "data": {
            "text/plain": [
              "0.25719216595106353"
            ]
          },
          "metadata": {
            "tags": []
          },
          "execution_count": 364
        }
      ]
    },
    {
      "cell_type": "code",
      "metadata": {
        "id": "XgPF7QQ1VHIq",
        "outputId": "9299e2a5-cf5f-43df-9180-d594d4705e34",
        "colab": {
          "base_uri": "https://localhost:8080/"
        }
      },
      "source": [
        "MSE(y_test, dt.predict(scaled_X_test))**.5"
      ],
      "execution_count": 368,
      "outputs": [
        {
          "output_type": "execute_result",
          "data": {
            "text/plain": [
              "4.377778826410589"
            ]
          },
          "metadata": {
            "tags": []
          },
          "execution_count": 368
        }
      ]
    },
    {
      "cell_type": "code",
      "metadata": {
        "id": "ClvNniiKsb-L",
        "outputId": "d560d635-b96f-4b25-9140-cfc31c666035",
        "colab": {
          "base_uri": "https://localhost:8080/"
        }
      },
      "source": [
        "rf = RandomForestRegressor()\n",
        "rf.fit(scaled_X_train, y_train)"
      ],
      "execution_count": 366,
      "outputs": [
        {
          "output_type": "execute_result",
          "data": {
            "text/plain": [
              "RandomForestRegressor(bootstrap=True, ccp_alpha=0.0, criterion='mse',\n",
              "                      max_depth=None, max_features='auto', max_leaf_nodes=None,\n",
              "                      max_samples=None, min_impurity_decrease=0.0,\n",
              "                      min_impurity_split=None, min_samples_leaf=1,\n",
              "                      min_samples_split=2, min_weight_fraction_leaf=0.0,\n",
              "                      n_estimators=100, n_jobs=None, oob_score=False,\n",
              "                      random_state=None, verbose=0, warm_start=False)"
            ]
          },
          "metadata": {
            "tags": []
          },
          "execution_count": 366
        }
      ]
    },
    {
      "cell_type": "code",
      "metadata": {
        "id": "vNaxZ4Ursh6b",
        "outputId": "f09e28cf-0ec6-490e-de0e-869bebe971b6",
        "colab": {
          "base_uri": "https://localhost:8080/"
        }
      },
      "source": [
        "rf.score(scaled_X_train, y_train)"
      ],
      "execution_count": 369,
      "outputs": [
        {
          "output_type": "execute_result",
          "data": {
            "text/plain": [
              "0.9504957592335558"
            ]
          },
          "metadata": {
            "tags": []
          },
          "execution_count": 369
        }
      ]
    },
    {
      "cell_type": "code",
      "metadata": {
        "id": "eb86fFrdsvuY",
        "outputId": "6c24293d-46ae-4c48-df64-871359ee61b5",
        "colab": {
          "base_uri": "https://localhost:8080/"
        }
      },
      "source": [
        "MSE(y_train, rf.predict(scaled_X_train))**.5"
      ],
      "execution_count": 370,
      "outputs": [
        {
          "output_type": "execute_result",
          "data": {
            "text/plain": [
              "1.3000898459382295"
            ]
          },
          "metadata": {
            "tags": []
          },
          "execution_count": 370
        }
      ]
    },
    {
      "cell_type": "code",
      "metadata": {
        "id": "DIk54Y2-svrY",
        "outputId": "b8a10644-be4c-4437-ac1b-5bd6ce01c248",
        "colab": {
          "base_uri": "https://localhost:8080/"
        }
      },
      "source": [
        "MSE(y_test, rf.predict(scaled_X_test))**.5"
      ],
      "execution_count": 371,
      "outputs": [
        {
          "output_type": "execute_result",
          "data": {
            "text/plain": [
              "3.480559847215323"
            ]
          },
          "metadata": {
            "tags": []
          },
          "execution_count": 371
        }
      ]
    },
    {
      "cell_type": "code",
      "metadata": {
        "id": "XQJrZbR2shH8",
        "outputId": "7913a73e-310b-4908-cc19-0a1cb882742d",
        "colab": {
          "base_uri": "https://localhost:8080/"
        }
      },
      "source": [
        "xgb = XGBRegressor()\n",
        "xgb.fit(scaled_X_train, y_train)"
      ],
      "execution_count": 372,
      "outputs": [
        {
          "output_type": "stream",
          "text": [
            "[19:36:03] WARNING: /workspace/src/objective/regression_obj.cu:152: reg:linear is now deprecated in favor of reg:squarederror.\n"
          ],
          "name": "stdout"
        },
        {
          "output_type": "execute_result",
          "data": {
            "text/plain": [
              "XGBRegressor(base_score=0.5, booster='gbtree', colsample_bylevel=1,\n",
              "             colsample_bynode=1, colsample_bytree=1, gamma=0,\n",
              "             importance_type='gain', learning_rate=0.1, max_delta_step=0,\n",
              "             max_depth=3, min_child_weight=1, missing=None, n_estimators=100,\n",
              "             n_jobs=1, nthread=None, objective='reg:linear', random_state=0,\n",
              "             reg_alpha=0, reg_lambda=1, scale_pos_weight=1, seed=None,\n",
              "             silent=None, subsample=1, verbosity=1)"
            ]
          },
          "metadata": {
            "tags": []
          },
          "execution_count": 372
        }
      ]
    },
    {
      "cell_type": "code",
      "metadata": {
        "id": "LDlrdtk4s_Y-",
        "outputId": "d3335868-5a48-4f05-dcab-1e48381f4658",
        "colab": {
          "base_uri": "https://localhost:8080/"
        }
      },
      "source": [
        "xgb.score(scaled_X_train, y_train)"
      ],
      "execution_count": 373,
      "outputs": [
        {
          "output_type": "execute_result",
          "data": {
            "text/plain": [
              "0.4490783333937286"
            ]
          },
          "metadata": {
            "tags": []
          },
          "execution_count": 373
        }
      ]
    },
    {
      "cell_type": "code",
      "metadata": {
        "id": "zNlqJBGOs_Vw",
        "outputId": "85d879cd-986b-4f31-84cf-4bca5579fc87",
        "colab": {
          "base_uri": "https://localhost:8080/"
        }
      },
      "source": [
        "MSE(y_train, xgb.predict(scaled_X_train))**.5"
      ],
      "execution_count": 376,
      "outputs": [
        {
          "output_type": "execute_result",
          "data": {
            "text/plain": [
              "4.3370765795095965"
            ]
          },
          "metadata": {
            "tags": []
          },
          "execution_count": 376
        }
      ]
    },
    {
      "cell_type": "code",
      "metadata": {
        "id": "lzjmkUwttEQ7",
        "outputId": "bdcb5f8c-8589-4655-96eb-cf2a874cd80c",
        "colab": {
          "base_uri": "https://localhost:8080/"
        }
      },
      "source": [
        "MSE(y_test, xgb.predict(scaled_X_test))**.5"
      ],
      "execution_count": 377,
      "outputs": [
        {
          "output_type": "execute_result",
          "data": {
            "text/plain": [
              "4.558020337117375"
            ]
          },
          "metadata": {
            "tags": []
          },
          "execution_count": 377
        }
      ]
    },
    {
      "cell_type": "code",
      "metadata": {
        "id": "Uf1vdD2Iwl4L"
      },
      "source": [
        ""
      ],
      "execution_count": null,
      "outputs": []
    },
    {
      "cell_type": "code",
      "metadata": {
        "id": "b37gxWoNwmF1"
      },
      "source": [
        ""
      ],
      "execution_count": null,
      "outputs": []
    },
    {
      "cell_type": "code",
      "metadata": {
        "id": "0QNQPYRZtELp",
        "outputId": "579a049f-dd4d-4b25-f9c0-22d8e83d5d95",
        "colab": {
          "base_uri": "https://localhost:8080/"
        }
      },
      "source": [
        "valuation_prediction = dt.predict(scaled_X_test)*.2  + rf.predict(scaled_X_test)*.6   + xgb.predict(scaled_X_test)*.2\n",
        "\n",
        "print(np.sqrt(MSE(y_test, valuation_prediction)))"
      ],
      "execution_count": 402,
      "outputs": [
        {
          "output_type": "stream",
          "text": [
            "2.6317919876746383\n"
          ],
          "name": "stdout"
        }
      ]
    },
    {
      "cell_type": "code",
      "metadata": {
        "id": "hO_9HOPaxF1a",
        "outputId": "3576f26a-6859-45cc-88db-57a35436355d",
        "colab": {
          "base_uri": "https://localhost:8080/"
        }
      },
      "source": [
        "valuation_prediction = dt.predict(scaled_X_test)*.1  + rf.predict(scaled_X_test)*.8   + xgb.predict(scaled_X_test)*.1\n",
        "\n",
        "print(np.sqrt(MSE(y_test, valuation_prediction)))"
      ],
      "execution_count": 405,
      "outputs": [
        {
          "output_type": "stream",
          "text": [
            "2.4339425840571067\n"
          ],
          "name": "stdout"
        }
      ]
    },
    {
      "cell_type": "markdown",
      "metadata": {
        "id": "ZmQqSXj4myoS"
      },
      "source": [
        "# Full dataset train\n"
      ]
    },
    {
      "cell_type": "code",
      "metadata": {
        "id": "jq1v9Yromo2K",
        "outputId": "cc2ec7f9-daa6-498f-8ae1-026f5485d3e5",
        "colab": {
          "base_uri": "https://localhost:8080/",
          "height": 204
        }
      },
      "source": [
        "train.head()"
      ],
      "execution_count": 378,
      "outputs": [
        {
          "output_type": "execute_result",
          "data": {
            "text/html": [
              "<div>\n",
              "<style scoped>\n",
              "    .dataframe tbody tr th:only-of-type {\n",
              "        vertical-align: middle;\n",
              "    }\n",
              "\n",
              "    .dataframe tbody tr th {\n",
              "        vertical-align: top;\n",
              "    }\n",
              "\n",
              "    .dataframe thead th {\n",
              "        text-align: right;\n",
              "    }\n",
              "</style>\n",
              "<table border=\"1\" class=\"dataframe\">\n",
              "  <thead>\n",
              "    <tr style=\"text-align: right;\">\n",
              "      <th></th>\n",
              "      <th>InvoiceNo</th>\n",
              "      <th>StockCode</th>\n",
              "      <th>Description</th>\n",
              "      <th>Quantity</th>\n",
              "      <th>UnitPrice</th>\n",
              "      <th>CustomerID</th>\n",
              "      <th>Country</th>\n",
              "      <th>month</th>\n",
              "      <th>day</th>\n",
              "      <th>hour</th>\n",
              "      <th>minute</th>\n",
              "    </tr>\n",
              "  </thead>\n",
              "  <tbody>\n",
              "    <tr>\n",
              "      <th>0</th>\n",
              "      <td>6141</td>\n",
              "      <td>1583</td>\n",
              "      <td>144</td>\n",
              "      <td>3</td>\n",
              "      <td>3.75</td>\n",
              "      <td>14056.0</td>\n",
              "      <td>35</td>\n",
              "      <td>5</td>\n",
              "      <td>6</td>\n",
              "      <td>16</td>\n",
              "      <td>54</td>\n",
              "    </tr>\n",
              "    <tr>\n",
              "      <th>1</th>\n",
              "      <td>6349</td>\n",
              "      <td>1300</td>\n",
              "      <td>3682</td>\n",
              "      <td>6</td>\n",
              "      <td>1.95</td>\n",
              "      <td>13098.0</td>\n",
              "      <td>35</td>\n",
              "      <td>5</td>\n",
              "      <td>11</td>\n",
              "      <td>7</td>\n",
              "      <td>35</td>\n",
              "    </tr>\n",
              "    <tr>\n",
              "      <th>2</th>\n",
              "      <td>16783</td>\n",
              "      <td>2178</td>\n",
              "      <td>1939</td>\n",
              "      <td>4</td>\n",
              "      <td>5.95</td>\n",
              "      <td>15044.0</td>\n",
              "      <td>35</td>\n",
              "      <td>11</td>\n",
              "      <td>20</td>\n",
              "      <td>13</td>\n",
              "      <td>20</td>\n",
              "    </tr>\n",
              "    <tr>\n",
              "      <th>3</th>\n",
              "      <td>16971</td>\n",
              "      <td>2115</td>\n",
              "      <td>2983</td>\n",
              "      <td>1</td>\n",
              "      <td>0.83</td>\n",
              "      <td>15525.0</td>\n",
              "      <td>35</td>\n",
              "      <td>11</td>\n",
              "      <td>22</td>\n",
              "      <td>12</td>\n",
              "      <td>7</td>\n",
              "    </tr>\n",
              "    <tr>\n",
              "      <th>4</th>\n",
              "      <td>6080</td>\n",
              "      <td>1210</td>\n",
              "      <td>2886</td>\n",
              "      <td>12</td>\n",
              "      <td>1.65</td>\n",
              "      <td>13952.0</td>\n",
              "      <td>35</td>\n",
              "      <td>5</td>\n",
              "      <td>6</td>\n",
              "      <td>9</td>\n",
              "      <td>0</td>\n",
              "    </tr>\n",
              "  </tbody>\n",
              "</table>\n",
              "</div>"
            ],
            "text/plain": [
              "   InvoiceNo  StockCode  Description  Quantity  ...  month  day  hour  minute\n",
              "0       6141       1583          144         3  ...      5    6    16      54\n",
              "1       6349       1300         3682         6  ...      5   11     7      35\n",
              "2      16783       2178         1939         4  ...     11   20    13      20\n",
              "3      16971       2115         2983         1  ...     11   22    12       7\n",
              "4       6080       1210         2886        12  ...      5    6     9       0\n",
              "\n",
              "[5 rows x 11 columns]"
            ]
          },
          "metadata": {
            "tags": []
          },
          "execution_count": 378
        }
      ]
    },
    {
      "cell_type": "code",
      "metadata": {
        "id": "PUdZLVNOmwFZ"
      },
      "source": [
        "train_feature = train.drop('UnitPrice', axis=1)\n",
        "train_label = train['UnitPrice']"
      ],
      "execution_count": 379,
      "outputs": []
    },
    {
      "cell_type": "code",
      "metadata": {
        "id": "iTgrz_Vztl9w",
        "outputId": "703a7458-d15c-45ee-e53c-e8a8e8c66104",
        "colab": {
          "base_uri": "https://localhost:8080/"
        }
      },
      "source": [
        "print(train_feature.shape)\n",
        "print(test.shape)"
      ],
      "execution_count": 380,
      "outputs": [
        {
          "output_type": "stream",
          "text": [
            "(279025, 10)\n",
            "(122049, 10)\n"
          ],
          "name": "stdout"
        }
      ]
    },
    {
      "cell_type": "code",
      "metadata": {
        "id": "nXNEl2XLlrtD"
      },
      "source": [
        "full_scaler = scaler.fit(train_feature)\n",
        "scaled_feature = full_scaler.transform(train_feature)\n",
        "scaled_test = full_scaler.transform(test)"
      ],
      "execution_count": 381,
      "outputs": []
    },
    {
      "cell_type": "code",
      "metadata": {
        "id": "omSPZxaWnQSQ",
        "outputId": "ef6161d4-1e48-4ada-bd4b-58f517542f78",
        "colab": {
          "base_uri": "https://localhost:8080/"
        }
      },
      "source": [
        "dt = DecisionTreeRegressor()\n",
        "dt.fit(scaled_feature, train_label)"
      ],
      "execution_count": 383,
      "outputs": [
        {
          "output_type": "execute_result",
          "data": {
            "text/plain": [
              "DecisionTreeRegressor(ccp_alpha=0.0, criterion='mse', max_depth=None,\n",
              "                      max_features=None, max_leaf_nodes=None,\n",
              "                      min_impurity_decrease=0.0, min_impurity_split=None,\n",
              "                      min_samples_leaf=1, min_samples_split=2,\n",
              "                      min_weight_fraction_leaf=0.0, presort='deprecated',\n",
              "                      random_state=None, splitter='best')"
            ]
          },
          "metadata": {
            "tags": []
          },
          "execution_count": 383
        }
      ]
    },
    {
      "cell_type": "code",
      "metadata": {
        "id": "gncYA9W-uGkq"
      },
      "source": [
        "dt_pred = dt.predict(scaled_test)"
      ],
      "execution_count": 384,
      "outputs": []
    },
    {
      "cell_type": "code",
      "metadata": {
        "id": "LGdVy2LuuGQO",
        "outputId": "d1a5b4f1-42c5-4dcc-acf5-ea48816d4e7c",
        "colab": {
          "base_uri": "https://localhost:8080/"
        }
      },
      "source": [
        "rf = RandomForestRegressor()\n",
        "rf.fit(scaled_feature, train_label)"
      ],
      "execution_count": 385,
      "outputs": [
        {
          "output_type": "execute_result",
          "data": {
            "text/plain": [
              "RandomForestRegressor(bootstrap=True, ccp_alpha=0.0, criterion='mse',\n",
              "                      max_depth=None, max_features='auto', max_leaf_nodes=None,\n",
              "                      max_samples=None, min_impurity_decrease=0.0,\n",
              "                      min_impurity_split=None, min_samples_leaf=1,\n",
              "                      min_samples_split=2, min_weight_fraction_leaf=0.0,\n",
              "                      n_estimators=100, n_jobs=None, oob_score=False,\n",
              "                      random_state=None, verbose=0, warm_start=False)"
            ]
          },
          "metadata": {
            "tags": []
          },
          "execution_count": 385
        }
      ]
    },
    {
      "cell_type": "code",
      "metadata": {
        "id": "k3ZU0jO9uRaJ"
      },
      "source": [
        "rf_pred = rf.predict(scaled_test)"
      ],
      "execution_count": 386,
      "outputs": []
    },
    {
      "cell_type": "code",
      "metadata": {
        "id": "GL-OIYe4uUbY",
        "outputId": "52558074-2ad5-4d6f-b930-4042a7481dae",
        "colab": {
          "base_uri": "https://localhost:8080/"
        }
      },
      "source": [
        "xgb = XGBRegressor()\n",
        "xgb.fit(scaled_feature, train_label)"
      ],
      "execution_count": 387,
      "outputs": [
        {
          "output_type": "stream",
          "text": [
            "[19:44:09] WARNING: /workspace/src/objective/regression_obj.cu:152: reg:linear is now deprecated in favor of reg:squarederror.\n"
          ],
          "name": "stdout"
        },
        {
          "output_type": "execute_result",
          "data": {
            "text/plain": [
              "XGBRegressor(base_score=0.5, booster='gbtree', colsample_bylevel=1,\n",
              "             colsample_bynode=1, colsample_bytree=1, gamma=0,\n",
              "             importance_type='gain', learning_rate=0.1, max_delta_step=0,\n",
              "             max_depth=3, min_child_weight=1, missing=None, n_estimators=100,\n",
              "             n_jobs=1, nthread=None, objective='reg:linear', random_state=0,\n",
              "             reg_alpha=0, reg_lambda=1, scale_pos_weight=1, seed=None,\n",
              "             silent=None, subsample=1, verbosity=1)"
            ]
          },
          "metadata": {
            "tags": []
          },
          "execution_count": 387
        }
      ]
    },
    {
      "cell_type": "code",
      "metadata": {
        "id": "aT9HC4HGuUSm"
      },
      "source": [
        "xgb_pred = xgb.predict(scaled_test)"
      ],
      "execution_count": 388,
      "outputs": []
    },
    {
      "cell_type": "code",
      "metadata": {
        "id": "-CMyl6eFvRb_",
        "outputId": "4b7193e7-ab4e-4b39-f7ff-35cfb27bcdbd",
        "colab": {
          "base_uri": "https://localhost:8080/"
        }
      },
      "source": [
        "xgb_pred.reshape(-1,1)"
      ],
      "execution_count": 394,
      "outputs": [
        {
          "output_type": "execute_result",
          "data": {
            "text/plain": [
              "array([[3.4718819],\n",
              "       [2.966237 ],\n",
              "       [1.2716379],\n",
              "       ...,\n",
              "       [1.9656687],\n",
              "       [6.163797 ],\n",
              "       [3.0234714]], dtype=float32)"
            ]
          },
          "metadata": {
            "tags": []
          },
          "execution_count": 394
        }
      ]
    },
    {
      "cell_type": "code",
      "metadata": {
        "id": "rXwN67dvan8k",
        "outputId": "47102268-b2b7-4bd0-c25e-7261731d5ccc",
        "colab": {
          "base_uri": "https://localhost:8080/",
          "height": 419
        }
      },
      "source": [
        "dt_df = pd.DataFrame(dt_pred, columns=['dt_pred'])\n",
        "rf_df = pd.DataFrame(rf_pred, columns=['rf_pred'])\n",
        "xgb_df = pd.DataFrame(xgb_pred, columns=['xgb_pred'])\n",
        "\n",
        "df = pd.concat([dt_df, rf_df, xgb_df], axis=1)\n",
        "df['UnitPrice'] = df['dt_pred']*.1 + df['rf_pred']*.8 + df['xgb_pred']*.1\n",
        "df"
      ],
      "execution_count": 408,
      "outputs": [
        {
          "output_type": "execute_result",
          "data": {
            "text/html": [
              "<div>\n",
              "<style scoped>\n",
              "    .dataframe tbody tr th:only-of-type {\n",
              "        vertical-align: middle;\n",
              "    }\n",
              "\n",
              "    .dataframe tbody tr th {\n",
              "        vertical-align: top;\n",
              "    }\n",
              "\n",
              "    .dataframe thead th {\n",
              "        text-align: right;\n",
              "    }\n",
              "</style>\n",
              "<table border=\"1\" class=\"dataframe\">\n",
              "  <thead>\n",
              "    <tr style=\"text-align: right;\">\n",
              "      <th></th>\n",
              "      <th>dt_pred</th>\n",
              "      <th>rf_pred</th>\n",
              "      <th>xgb_pred</th>\n",
              "      <th>UnitPrice</th>\n",
              "    </tr>\n",
              "  </thead>\n",
              "  <tbody>\n",
              "    <tr>\n",
              "      <th>0</th>\n",
              "      <td>1.65</td>\n",
              "      <td>1.6500</td>\n",
              "      <td>3.471882</td>\n",
              "      <td>1.832188</td>\n",
              "    </tr>\n",
              "    <tr>\n",
              "      <th>1</th>\n",
              "      <td>1.25</td>\n",
              "      <td>1.2540</td>\n",
              "      <td>2.966237</td>\n",
              "      <td>1.424824</td>\n",
              "    </tr>\n",
              "    <tr>\n",
              "      <th>2</th>\n",
              "      <td>3.39</td>\n",
              "      <td>3.5718</td>\n",
              "      <td>1.271638</td>\n",
              "      <td>3.323604</td>\n",
              "    </tr>\n",
              "    <tr>\n",
              "      <th>3</th>\n",
              "      <td>1.65</td>\n",
              "      <td>1.6500</td>\n",
              "      <td>4.282385</td>\n",
              "      <td>1.913238</td>\n",
              "    </tr>\n",
              "    <tr>\n",
              "      <th>4</th>\n",
              "      <td>12.75</td>\n",
              "      <td>12.7500</td>\n",
              "      <td>4.114094</td>\n",
              "      <td>11.886409</td>\n",
              "    </tr>\n",
              "    <tr>\n",
              "      <th>...</th>\n",
              "      <td>...</td>\n",
              "      <td>...</td>\n",
              "      <td>...</td>\n",
              "      <td>...</td>\n",
              "    </tr>\n",
              "    <tr>\n",
              "      <th>122044</th>\n",
              "      <td>0.38</td>\n",
              "      <td>0.3986</td>\n",
              "      <td>1.583231</td>\n",
              "      <td>0.515203</td>\n",
              "    </tr>\n",
              "    <tr>\n",
              "      <th>122045</th>\n",
              "      <td>1.69</td>\n",
              "      <td>1.6900</td>\n",
              "      <td>1.262686</td>\n",
              "      <td>1.647269</td>\n",
              "    </tr>\n",
              "    <tr>\n",
              "      <th>122046</th>\n",
              "      <td>1.25</td>\n",
              "      <td>1.2570</td>\n",
              "      <td>1.965669</td>\n",
              "      <td>1.327167</td>\n",
              "    </tr>\n",
              "    <tr>\n",
              "      <th>122047</th>\n",
              "      <td>3.95</td>\n",
              "      <td>3.9500</td>\n",
              "      <td>6.163797</td>\n",
              "      <td>4.171380</td>\n",
              "    </tr>\n",
              "    <tr>\n",
              "      <th>122048</th>\n",
              "      <td>4.15</td>\n",
              "      <td>4.1500</td>\n",
              "      <td>3.023471</td>\n",
              "      <td>4.037347</td>\n",
              "    </tr>\n",
              "  </tbody>\n",
              "</table>\n",
              "<p>122049 rows × 4 columns</p>\n",
              "</div>"
            ],
            "text/plain": [
              "        dt_pred  rf_pred  xgb_pred  UnitPrice\n",
              "0          1.65   1.6500  3.471882   1.832188\n",
              "1          1.25   1.2540  2.966237   1.424824\n",
              "2          3.39   3.5718  1.271638   3.323604\n",
              "3          1.65   1.6500  4.282385   1.913238\n",
              "4         12.75  12.7500  4.114094  11.886409\n",
              "...         ...      ...       ...        ...\n",
              "122044     0.38   0.3986  1.583231   0.515203\n",
              "122045     1.69   1.6900  1.262686   1.647269\n",
              "122046     1.25   1.2570  1.965669   1.327167\n",
              "122047     3.95   3.9500  6.163797   4.171380\n",
              "122048     4.15   4.1500  3.023471   4.037347\n",
              "\n",
              "[122049 rows x 4 columns]"
            ]
          },
          "metadata": {
            "tags": []
          },
          "execution_count": 408
        }
      ]
    },
    {
      "cell_type": "code",
      "metadata": {
        "id": "AUXYoy5Sx5hF"
      },
      "source": [
        "df = pd.DataFrame(df['UnitPrice'])"
      ],
      "execution_count": 420,
      "outputs": []
    },
    {
      "cell_type": "code",
      "metadata": {
        "id": "5i4S7JvfbHVe"
      },
      "source": [
        "df.to_csv('my_submission_file.csv', index= False)\n",
        "df.to_csv('/content/drive/My Drive/Datasets/Participants_Data_TGIH/my_submission_file.csv', index=False)"
      ],
      "execution_count": 421,
      "outputs": []
    },
    {
      "cell_type": "code",
      "metadata": {
        "id": "n8Shgjy2ESMf",
        "outputId": "dfa2cb16-01aa-4717-8c0e-5200f5fd8768",
        "colab": {
          "base_uri": "https://localhost:8080/",
          "height": 297
        }
      },
      "source": [
        "df.describe()"
      ],
      "execution_count": 306,
      "outputs": [
        {
          "output_type": "execute_result",
          "data": {
            "text/html": [
              "<div>\n",
              "<style scoped>\n",
              "    .dataframe tbody tr th:only-of-type {\n",
              "        vertical-align: middle;\n",
              "    }\n",
              "\n",
              "    .dataframe tbody tr th {\n",
              "        vertical-align: top;\n",
              "    }\n",
              "\n",
              "    .dataframe thead th {\n",
              "        text-align: right;\n",
              "    }\n",
              "</style>\n",
              "<table border=\"1\" class=\"dataframe\">\n",
              "  <thead>\n",
              "    <tr style=\"text-align: right;\">\n",
              "      <th></th>\n",
              "      <th>UnitPrice</th>\n",
              "    </tr>\n",
              "  </thead>\n",
              "  <tbody>\n",
              "    <tr>\n",
              "      <th>count</th>\n",
              "      <td>122049.000000</td>\n",
              "    </tr>\n",
              "    <tr>\n",
              "      <th>mean</th>\n",
              "      <td>1.696895</td>\n",
              "    </tr>\n",
              "    <tr>\n",
              "      <th>std</th>\n",
              "      <td>2.322709</td>\n",
              "    </tr>\n",
              "    <tr>\n",
              "      <th>min</th>\n",
              "      <td>-0.102298</td>\n",
              "    </tr>\n",
              "    <tr>\n",
              "      <th>25%</th>\n",
              "      <td>1.129377</td>\n",
              "    </tr>\n",
              "    <tr>\n",
              "      <th>50%</th>\n",
              "      <td>1.373210</td>\n",
              "    </tr>\n",
              "    <tr>\n",
              "      <th>75%</th>\n",
              "      <td>1.799992</td>\n",
              "    </tr>\n",
              "    <tr>\n",
              "      <th>max</th>\n",
              "      <td>172.308609</td>\n",
              "    </tr>\n",
              "  </tbody>\n",
              "</table>\n",
              "</div>"
            ],
            "text/plain": [
              "           UnitPrice\n",
              "count  122049.000000\n",
              "mean        1.696895\n",
              "std         2.322709\n",
              "min        -0.102298\n",
              "25%         1.129377\n",
              "50%         1.373210\n",
              "75%         1.799992\n",
              "max       172.308609"
            ]
          },
          "metadata": {
            "tags": []
          },
          "execution_count": 306
        }
      ]
    },
    {
      "cell_type": "code",
      "metadata": {
        "id": "YIn69njKn59C"
      },
      "source": [
        ""
      ],
      "execution_count": null,
      "outputs": []
    },
    {
      "cell_type": "code",
      "metadata": {
        "id": "NTXSp2Sbn6Av"
      },
      "source": [
        ""
      ],
      "execution_count": null,
      "outputs": []
    },
    {
      "cell_type": "code",
      "metadata": {
        "id": "lD83qI5VTfvO"
      },
      "source": [
        "pred = model.predict(scaled_X_test)\n",
        "len(pred)"
      ],
      "execution_count": null,
      "outputs": []
    },
    {
      "cell_type": "code",
      "metadata": {
        "id": "XQxlrGysMug5"
      },
      "source": [
        "#import graphviz\n",
        "#from sklearn import tree\n",
        "# DOT data\n",
        "#dot_data = tree.export_graphviz(model, out_file=None, \n",
        "                                filled=True)"
      ],
      "execution_count": null,
      "outputs": []
    },
    {
      "cell_type": "code",
      "metadata": {
        "id": "K3UlOWF9Mujj"
      },
      "source": [
        "# Draw graph\n",
        "#graph = graphviz.Source(dot_data, format=\"png\") \n",
        "#graph"
      ],
      "execution_count": null,
      "outputs": []
    },
    {
      "cell_type": "code",
      "metadata": {
        "id": "0G2x8J2lMueL"
      },
      "source": [
        "import tensorflow as tf\n",
        "from tensorflow import keras\n",
        "from tensorflow.keras import layers\n",
        "from tensorflow.keras.layers.experimental import preprocessing\n",
        "\n",
        "print(tf.__version__)"
      ],
      "execution_count": null,
      "outputs": []
    },
    {
      "cell_type": "code",
      "metadata": {
        "id": "RVDb8gahNsux"
      },
      "source": [
        "show_df(combined)"
      ],
      "execution_count": null,
      "outputs": []
    },
    {
      "cell_type": "code",
      "metadata": {
        "id": "xIdXXb7iLxBK"
      },
      "source": [
        ""
      ],
      "execution_count": null,
      "outputs": []
    },
    {
      "cell_type": "code",
      "metadata": {
        "id": "z2tYPkuALxEF"
      },
      "source": [
        "test_dataset.shape"
      ],
      "execution_count": null,
      "outputs": []
    },
    {
      "cell_type": "code",
      "metadata": {
        "id": "YVwBFBNnLw7y"
      },
      "source": [
        "train_dataset.shape"
      ],
      "execution_count": null,
      "outputs": []
    },
    {
      "cell_type": "code",
      "metadata": {
        "id": "qrGgBxmfOoXm"
      },
      "source": [
        "train_dataset"
      ],
      "execution_count": null,
      "outputs": []
    },
    {
      "cell_type": "code",
      "metadata": {
        "id": "W4wiYZ7sOoQT"
      },
      "source": [
        ""
      ],
      "execution_count": null,
      "outputs": []
    }
  ]
}